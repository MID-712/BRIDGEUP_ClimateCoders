{
 "cells": [
  {
   "cell_type": "markdown",
   "metadata": {},
   "source": [
    "## Reading delimited text files\n",
    "\n",
    "### Useful functions\n",
    "\n",
    "The pandas.read_table function allows you to read any delimited text file. It has some inputs that will be useful to reading our data files. \n",
    "\n",
    "Look at the documentation for the function (https://pandas.pydata.org/pandas-docs/stable/reference/api/pandas.read_table.html ) and write a short description of what each of the inputs do below.\n",
    "\n",
    "pandas.read_table(**filepath**, **sep**, **header**, **skiprows**, **skipfooter**)\n",
    "\n",
    "* **filepath**: \n",
    "\n",
    "* **sep**: \n",
    "\n",
    "* **header**: \n",
    "\n",
    "* **skiprows**:\n",
    "\n",
    "* **skipfooter**:"
   ]
  },
  {
   "cell_type": "code",
   "execution_count": null,
   "metadata": {},
   "outputs": [],
   "source": [
    "import pandas as pd"
   ]
  },
  {
   "cell_type": "markdown",
   "metadata": {},
   "source": [
    "This is a .txt file of our class schedule for the last week. "
   ]
  },
  {
   "cell_type": "code",
   "execution_count": null,
   "metadata": {},
   "outputs": [],
   "source": [
    "pd.read_table('schedule.txt')"
   ]
  },
  {
   "cell_type": "markdown",
   "metadata": {},
   "source": [
    "Doesn't look great! \n",
    "\n",
    "Firstly, it's not reading in the right names of the columns. To do so, we have to tell pandas what row to read in. In our case, that's the second row or in Python, row 1. "
   ]
  },
  {
   "cell_type": "code",
   "execution_count": null,
   "metadata": {},
   "outputs": [],
   "source": [
    "pd.read_table('schedule.txt', header = 1)"
   ]
  },
  {
   "cell_type": "markdown",
   "metadata": {},
   "source": [
    "You can also do this by skipping the unnecessary rows. We need to skip 1 row. Pandas identifies the header automically. "
   ]
  },
  {
   "cell_type": "code",
   "execution_count": null,
   "metadata": {},
   "outputs": [],
   "source": [
    "pd.read_table('schedule.txt', skiprows = 1)"
   ]
  },
  {
   "cell_type": "markdown",
   "metadata": {},
   "source": [
    "What is the delimiter in this case? Edit the function below to appropriately separate the data. \n",
    "\n",
    "*Hint: what should \"sep\" be?*"
   ]
  },
  {
   "cell_type": "code",
   "execution_count": null,
   "metadata": {},
   "outputs": [],
   "source": [
    "pd.read_table('schedule.txt', header = 1)"
   ]
  },
  {
   "cell_type": "markdown",
   "metadata": {},
   "source": [
    "There is also an empty row at the end. Edit the function to skip the final row.\n",
    "\n",
    "*Hint: what should \"skipfooter\" be?*"
   ]
  },
  {
   "cell_type": "code",
   "execution_count": null,
   "metadata": {},
   "outputs": [],
   "source": [
    "pd.read_table('schedule.txt', header = 1)"
   ]
  },
  {
   "cell_type": "markdown",
   "metadata": {},
   "source": [
    "## Deleting rows or columns\n",
    "\n",
    "Sometimes pandas.read_table() identifies extra columns and rows that we need to delete after reading in the data. \n",
    "\n",
    "### Useful functions\n",
    "\n",
    "pandas_dataframe.drop(**labels**,**axis**)\n",
    "* **labels**: \"column name\" or if you have multiple [\"col_name1\", \"col_name2\", \"col_name3\"]\n",
    "* **axis**: axis = 0 for rows, axis = 1 for columns\n",
    "\n",
    "For example: \n",
    "\n",
    "``df.drop(labels = ['Date','Topic'], axis = 1)``\n",
    "\n",
    "Edit the function with all the changes you've made so far and drop any unnecessary columns. "
   ]
  },
  {
   "cell_type": "code",
   "execution_count": null,
   "metadata": {},
   "outputs": [],
   "source": [
    "df = pd.read_table('schedule.txt')"
   ]
  },
  {
   "cell_type": "code",
   "execution_count": null,
   "metadata": {},
   "outputs": [],
   "source": []
  }
 ],
 "metadata": {
  "kernelspec": {
   "display_name": "Python 3",
   "language": "python",
   "name": "python3"
  },
  "language_info": {
   "codemirror_mode": {
    "name": "ipython",
    "version": 3
   },
   "file_extension": ".py",
   "mimetype": "text/x-python",
   "name": "python",
   "nbconvert_exporter": "python",
   "pygments_lexer": "ipython3",
   "version": "3.7.4"
  }
 },
 "nbformat": 4,
 "nbformat_minor": 2
}
