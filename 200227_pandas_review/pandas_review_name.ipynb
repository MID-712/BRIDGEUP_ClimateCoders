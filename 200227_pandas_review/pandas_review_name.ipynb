{
 "cells": [
  {
   "cell_type": "code",
<<<<<<< HEAD
   "execution_count": 1,
=======
   "execution_count": 2,
>>>>>>> edd6aa98e26a8313d50e2398e439584f250709cc
   "metadata": {},
   "outputs": [],
   "source": [
    "import pandas as pd\n",
    "import os\n",
    "import matplotlib.pyplot as plt"
   ]
  },
  {
   "cell_type": "markdown",
   "metadata": {},
   "source": [
    "#### Import the ENSO climate index"
   ]
  },
  {
   "cell_type": "code",
<<<<<<< HEAD
   "execution_count": 20,
=======
   "execution_count": null,
>>>>>>> edd6aa98e26a8313d50e2398e439584f250709cc
   "metadata": {},
   "outputs": [
    {
     "name": "stdout",
     "output_type": "stream",
     "text": [
      "     Year     1     2     3     4     5     6     7     8     9    10    11  \\\n",
      "0    1871 -0.25 -0.58 -0.43 -0.50 -0.70 -0.53 -0.60 -0.33 -0.24 -0.33 -0.31   \n",
      "1    1872 -0.72 -0.62 -0.50 -0.77 -0.62 -0.52 -0.32 -0.85 -1.02 -0.94 -0.79   \n",
      "2    1873 -0.78 -1.01 -1.31 -0.67 -0.53 -0.48 -0.58 -0.39 -0.34 -0.78 -0.77   \n",
      "3    1874 -0.93 -1.06 -1.40 -0.94 -0.86 -0.72 -1.00 -1.05 -1.13 -1.25 -1.33   \n",
      "4    1875 -0.71 -0.37 -0.59 -0.87 -1.09 -0.76 -0.85 -0.81 -0.91 -0.83 -0.64   \n",
      "5    1876 -0.95 -1.20 -1.13 -1.18 -1.08 -0.43 -0.34 -0.16 -0.02  0.11  0.15   \n",
      "6    1877  0.35  0.46  0.52  0.50  0.76  0.98  1.42  1.54  1.75  1.95  2.08   \n",
      "7    1878  2.41  2.43  1.31  0.92  0.82  0.92  0.25 -0.11 -0.32 -0.53 -0.70   \n",
      "8    1879 -0.55 -0.18 -0.24 -0.37 -0.83 -0.67 -0.77 -0.69 -0.83 -0.93 -1.14   \n",
      "9    1880 -1.00 -0.73 -0.62 -0.57 -0.71 -0.61 -0.53 -0.24 -0.03  0.17  0.24   \n",
      "10   1881  0.29  0.23  0.32  0.41  0.16  0.23 -0.26 -0.17 -0.33 -0.43 -0.59   \n",
      "11   1882 -0.45 -0.55 -0.53  0.10  0.01 -0.40 -0.57 -0.33 -0.51 -0.65 -0.92   \n",
      "12   1883 -0.46 -0.49 -0.40 -0.23 -0.38 -0.21 -0.01 -0.03 -0.17 -0.42 -0.22   \n",
      "13   1884 -0.11 -0.01  0.00  0.26  0.40 -0.13  0.28  0.20  0.18  0.29  0.30   \n",
      "14   1885  0.12  0.27  0.12 -0.02  0.44  0.17  0.08  0.34  0.52  0.72  0.81   \n",
      "15   1886  0.17 -0.10 -0.11 -0.37 -0.85 -0.90 -0.97 -1.03 -1.21 -1.14 -1.34   \n",
      "16   1887 -0.68 -1.02 -1.17 -1.18 -1.14 -0.56 -0.55 -0.62 -0.34 -0.12  0.04   \n",
      "17   1888  0.15  0.66  0.40  0.30  0.47  0.40  0.56  0.93  0.58  1.42  2.21   \n",
      "18   1889  1.98  1.47  0.83  0.46  0.32  0.09 -0.76 -0.99 -0.92 -1.31 -1.08   \n",
      "19   1890 -2.49 -2.11 -1.15 -1.14 -1.00 -0.86 -0.92 -1.38 -1.29 -1.26 -1.07   \n",
      "20   1891 -0.45 -0.25 -0.07  0.15  0.13  0.29  0.11  0.05 -0.08 -0.03  0.06   \n",
      "21   1892 -0.50 -0.34 -0.58 -0.65 -0.72 -0.57 -0.62 -0.63 -1.07 -1.54 -1.62   \n",
      "22   1893 -1.23 -1.16 -1.24 -1.30 -1.32 -1.19 -1.32 -1.29 -1.28 -1.36 -1.30   \n",
      "23   1894 -1.09 -1.13 -1.06 -0.92 -1.00 -0.84 -0.88 -0.80 -1.10 -0.82 -0.92   \n",
      "24   1895 -0.73 -0.49 -0.40 -0.17 -0.03 -0.21 -0.26  0.36  0.42  0.32  0.44   \n",
      "25   1896  0.16  0.09  0.15 -0.01 -0.04 -0.21  0.43  1.05  1.04  1.10  1.51   \n",
      "26   1897  1.49  1.14  0.54 -0.22 -0.17 -0.02  0.07 -0.15 -0.24 -0.57 -0.61   \n",
      "27   1898 -0.51 -0.57 -0.79 -0.61 -0.59 -0.28 -0.63 -0.76 -0.19 -0.33 -0.66   \n",
      "28   1899 -0.75 -0.71 -0.56 -0.34  0.04  0.09 -0.02  0.63  0.43  0.92  1.29   \n",
      "29   1900  1.41  1.29  0.99  0.66  0.54  0.76  0.75  0.78  0.56  0.42  0.14   \n",
      "..    ...   ...   ...   ...   ...   ...   ...   ...   ...   ...   ...   ...   \n",
      "112  1983  2.43  2.22  1.69  1.12  1.12  0.62 -0.11 -0.13 -0.50 -1.03 -1.13   \n",
      "113  1984 -0.80 -0.53 -0.48 -0.60 -0.64 -0.90 -0.40 -0.40 -0.35 -0.83 -1.18   \n",
      "114  1985 -0.89 -0.91 -0.96 -0.98 -0.90 -0.76 -0.61 -0.49 -0.57 -0.64 -0.43   \n",
      "115  1986 -0.79 -0.64 -0.51 -0.41 -0.47 -0.08  0.16  0.24  0.59  0.90  1.04   \n",
      "116  1987  1.19  1.17  1.24  0.89  0.91  1.24  1.34  1.48  1.53  1.36  1.29   \n",
      "117  1988  0.69  0.35  0.29 -0.49 -1.05 -1.46 -1.54 -1.44 -1.33 -2.09 -2.18   \n",
      "118  1989 -1.95 -1.37 -1.33 -1.11 -0.80 -0.64 -0.47 -0.58 -0.38 -0.40 -0.30   \n",
      "119  1990  0.02  0.36  0.20  0.26  0.32  0.00  0.15  0.17  0.12  0.13  0.08   \n",
      "120  1991  0.51  0.32  0.10  0.21  0.44  0.65  0.62  0.43  0.22  0.91  1.14   \n",
      "121  1992  1.61  1.62  1.50  1.41  1.27  0.53  0.27 -0.15 -0.14 -0.35 -0.14   \n",
      "122  1993  0.28  0.42  0.47  0.92  0.93  0.64  0.33  0.16  0.26  0.36  0.28   \n",
      "123  1994  0.03 -0.16 -0.06  0.03  0.14  0.27  0.16  0.52  0.40  0.90  1.14   \n",
      "124  1995  1.10  0.87  0.49  0.27  0.03  0.08  0.03 -0.38 -0.57 -0.72 -0.78   \n",
      "125  1996 -0.65 -0.66 -0.48 -0.34 -0.40 -0.12 -0.14 -0.30 -0.34 -0.28 -0.30   \n",
      "126  1997 -0.43 -0.24 -0.06  0.34  0.87  1.15  1.60  1.94  2.10  2.29  2.42   \n",
      "127  1998  2.42  2.08  1.49  0.90  0.68 -0.39 -0.73 -0.83 -0.82 -1.19 -1.23   \n",
      "128  1999 -1.53 -1.41 -0.92 -0.81 -0.87 -0.95 -0.84 -0.98 -0.84 -1.03 -1.41   \n",
      "129  2000 -1.79 -1.53 -1.26 -0.80 -0.80 -0.75 -0.57 -0.36 -0.39 -0.55 -0.75   \n",
      "130  2001 -0.88 -0.63 -0.48 -0.30 -0.30 -0.11  0.01 -0.07 -0.28 -0.26 -0.28   \n",
      "131  2002 -0.14  0.00  0.11  0.14  0.21  0.68  0.57  0.70  0.82  1.16  1.41   \n",
      "132  2003  0.98  0.64  0.48 -0.03 -0.52 -0.19  0.14  0.05  0.15  0.46  0.39   \n",
      "133  2004  0.26  0.17 -0.10  0.06  0.10  0.14  0.41  0.66  0.67  0.73  0.62   \n",
      "134  2005  0.56  0.26  0.28  0.28  0.30  0.22 -0.01 -0.04 -0.08 -0.15 -0.44   \n",
      "135  2006 -0.98 -0.71 -0.73 -0.30 -0.11  0.09  0.03  0.37  0.63  0.76  0.98   \n",
      "136  2007  0.59  0.12 -0.15 -0.16 -0.39 -0.16 -0.37 -0.57 -1.04 -1.40 -1.58   \n",
      "137  2008 -1.79 -1.70 -1.17 -0.89 -0.64 -0.44 -0.04 -0.04 -0.28 -0.30 -0.37   \n",
      "138  2009 -1.00 -0.71 -0.72 -0.25  0.17  0.49  0.69  0.62  0.68  0.96  1.49   \n",
      "139  2010  1.43  1.18  1.07  0.56 -0.15 -0.62 -0.89 -1.33 -1.56 -1.65 -1.57   \n",
      "140  2011 -1.70 -1.26 -0.98 -0.74 -0.53 -0.25 -0.23 -0.66 -0.76 -0.93 -1.09   \n",
      "141  2012 -0.93 -0.61 -0.48 -0.29 -0.18  0.14  0.44  0.66  0.44  0.23  0.33   \n",
      "\n",
      "       12  \n",
      "0   -0.58  \n",
      "1   -0.88  \n",
      "2   -0.70  \n",
      "3   -1.14  \n",
      "4   -0.75  \n",
      "5    0.23  \n",
      "6    2.49  \n",
      "7   -0.75  \n",
      "8   -1.02  \n",
      "9    0.18  \n",
      "10  -0.37  \n",
      "11  -0.75  \n",
      "12  -0.14  \n",
      "13   0.35  \n",
      "14   1.02  \n",
      "15  -1.44  \n",
      "16   0.15  \n",
      "17   1.67  \n",
      "18  -1.25  \n",
      "19  -0.68  \n",
      "20   0.01  \n",
      "21  -1.18  \n",
      "22  -1.00  \n",
      "23  -0.48  \n",
      "24   0.48  \n",
      "25   1.55  \n",
      "26  -0.40  \n",
      "27  -0.78  \n",
      "28   1.51  \n",
      "29   0.60  \n",
      "..    ...  \n",
      "112 -0.95  \n",
      "113 -1.53  \n",
      "114 -0.40  \n",
      "115  0.98  \n",
      "116  1.05  \n",
      "117 -1.98  \n",
      "118 -0.13  \n",
      "119  0.32  \n",
      "120  1.62  \n",
      "121  0.04  \n",
      "122  0.19  \n",
      "123  1.21  \n",
      "124 -0.72  \n",
      "125 -0.43  \n",
      "126  2.30  \n",
      "127 -1.51  \n",
      "128 -1.54  \n",
      "129 -0.92  \n",
      "130 -0.46  \n",
      "131  1.41  \n",
      "132  0.32  \n",
      "133  0.71  \n",
      "134 -0.75  \n",
      "135  1.10  \n",
      "136 -1.61  \n",
      "137 -0.90  \n",
      "138  1.81  \n",
      "139 -1.63  \n",
      "140 -1.05  \n",
      "141 -0.13  \n",
      "\n",
      "[142 rows x 13 columns]\n"
     ]
    }
   ],
   "source": [
    "#make datapath to where file is 🤷🏽‍♀️\n",
    "DataPath = '/Users/brownscholar/Dropbox/BridgeUP_ClimateCoders/Data'\n",
    "#os function to change directories \n",
    "os.chdir(DataPath)\n",
    "#how to open an excel file in pandas 🤯\n",
    "df = pd.read_excel('NOAA_ENSOIndex.xlsx')\n",
    "print (df)"
   ]
  },
  {
   "cell_type": "code",
   "execution_count": 55,
   "metadata": {},
   "outputs": [
    {
     "data": {
      "text/html": [
       "<div>\n",
       "<style scoped>\n",
       "    .dataframe tbody tr th:only-of-type {\n",
       "        vertical-align: middle;\n",
       "    }\n",
       "\n",
       "    .dataframe tbody tr th {\n",
       "        vertical-align: top;\n",
       "    }\n",
       "\n",
       "    .dataframe thead th {\n",
       "        text-align: right;\n",
       "    }\n",
       "</style>\n",
       "<table border=\"1\" class=\"dataframe\">\n",
       "  <thead>\n",
       "    <tr style=\"text-align: right;\">\n",
       "      <th></th>\n",
       "      <th>Year</th>\n",
       "      <th>1</th>\n",
       "      <th>2</th>\n",
       "      <th>3</th>\n",
       "      <th>4</th>\n",
       "      <th>5</th>\n",
       "      <th>6</th>\n",
       "      <th>7</th>\n",
       "      <th>8</th>\n",
       "      <th>9</th>\n",
       "      <th>10</th>\n",
       "      <th>11</th>\n",
       "      <th>12</th>\n",
       "    </tr>\n",
       "  </thead>\n",
       "  <tbody>\n",
       "    <tr>\n",
       "      <th>0</th>\n",
       "      <td>1871</td>\n",
       "      <td>-0.25</td>\n",
       "      <td>-0.58</td>\n",
       "      <td>-0.43</td>\n",
       "      <td>-0.50</td>\n",
       "      <td>-0.70</td>\n",
       "      <td>-0.53</td>\n",
       "      <td>-0.60</td>\n",
       "      <td>-0.33</td>\n",
       "      <td>-0.24</td>\n",
       "      <td>-0.33</td>\n",
       "      <td>-0.31</td>\n",
       "      <td>-0.58</td>\n",
       "    </tr>\n",
       "    <tr>\n",
       "      <th>1</th>\n",
       "      <td>1872</td>\n",
       "      <td>-0.72</td>\n",
       "      <td>-0.62</td>\n",
       "      <td>-0.50</td>\n",
       "      <td>-0.77</td>\n",
       "      <td>-0.62</td>\n",
       "      <td>-0.52</td>\n",
       "      <td>-0.32</td>\n",
       "      <td>-0.85</td>\n",
       "      <td>-1.02</td>\n",
       "      <td>-0.94</td>\n",
       "      <td>-0.79</td>\n",
       "      <td>-0.88</td>\n",
       "    </tr>\n",
       "    <tr>\n",
       "      <th>2</th>\n",
       "      <td>1873</td>\n",
       "      <td>-0.78</td>\n",
       "      <td>-1.01</td>\n",
       "      <td>-1.31</td>\n",
       "      <td>-0.67</td>\n",
       "      <td>-0.53</td>\n",
       "      <td>-0.48</td>\n",
       "      <td>-0.58</td>\n",
       "      <td>-0.39</td>\n",
       "      <td>-0.34</td>\n",
       "      <td>-0.78</td>\n",
       "      <td>-0.77</td>\n",
       "      <td>-0.70</td>\n",
       "    </tr>\n",
       "    <tr>\n",
       "      <th>3</th>\n",
       "      <td>1874</td>\n",
       "      <td>-0.93</td>\n",
       "      <td>-1.06</td>\n",
       "      <td>-1.40</td>\n",
       "      <td>-0.94</td>\n",
       "      <td>-0.86</td>\n",
       "      <td>-0.72</td>\n",
       "      <td>-1.00</td>\n",
       "      <td>-1.05</td>\n",
       "      <td>-1.13</td>\n",
       "      <td>-1.25</td>\n",
       "      <td>-1.33</td>\n",
       "      <td>-1.14</td>\n",
       "    </tr>\n",
       "    <tr>\n",
       "      <th>4</th>\n",
       "      <td>1875</td>\n",
       "      <td>-0.71</td>\n",
       "      <td>-0.37</td>\n",
       "      <td>-0.59</td>\n",
       "      <td>-0.87</td>\n",
       "      <td>-1.09</td>\n",
       "      <td>-0.76</td>\n",
       "      <td>-0.85</td>\n",
       "      <td>-0.81</td>\n",
       "      <td>-0.91</td>\n",
       "      <td>-0.83</td>\n",
       "      <td>-0.64</td>\n",
       "      <td>-0.75</td>\n",
       "    </tr>\n",
       "  </tbody>\n",
       "</table>\n",
       "</div>"
      ],
      "text/plain": [
       "   Year     1     2     3     4     5     6     7     8     9    10    11  \\\n",
       "0  1871 -0.25 -0.58 -0.43 -0.50 -0.70 -0.53 -0.60 -0.33 -0.24 -0.33 -0.31   \n",
       "1  1872 -0.72 -0.62 -0.50 -0.77 -0.62 -0.52 -0.32 -0.85 -1.02 -0.94 -0.79   \n",
       "2  1873 -0.78 -1.01 -1.31 -0.67 -0.53 -0.48 -0.58 -0.39 -0.34 -0.78 -0.77   \n",
       "3  1874 -0.93 -1.06 -1.40 -0.94 -0.86 -0.72 -1.00 -1.05 -1.13 -1.25 -1.33   \n",
       "4  1875 -0.71 -0.37 -0.59 -0.87 -1.09 -0.76 -0.85 -0.81 -0.91 -0.83 -0.64   \n",
       "\n",
       "     12  \n",
       "0 -0.58  \n",
       "1 -0.88  \n",
       "2 -0.70  \n",
       "3 -1.14  \n",
       "4 -0.75  "
      ]
     },
     "execution_count": 55,
     "metadata": {},
     "output_type": "execute_result"
    }
   ],
   "source": [
    "df.head()"
   ]
  },
  {
   "cell_type": "code",
   "execution_count": 38,
   "metadata": {},
   "outputs": [
    {
     "name": "stdout",
     "output_type": "stream",
     "text": [
      "Year    142.00\n",
      "1         5.92\n",
      "2         5.54\n",
      "3         4.13\n",
      "4         3.71\n",
      "5         3.73\n",
      "6         3.70\n",
      "7         4.14\n",
      "8         4.42\n",
      "9         4.66\n",
      "10        5.38\n",
      "11        5.60\n",
      "12        5.67\n",
      "dtype: float64\n"
     ]
    }
   ],
   "source": [
    "#find the average of each year\n",
    "print(df.max() - df.min() +1)"
   ]
  },
  {
   "cell_type": "markdown",
   "metadata": {},
   "source": [
    "#### How many years of data do we have?"
   ]
  },
  {
   "cell_type": "code",
<<<<<<< HEAD
   "execution_count": 23,
=======
   "execution_count": 6,
>>>>>>> edd6aa98e26a8313d50e2398e439584f250709cc
   "metadata": {},
   "outputs": [
    {
     "data": {
      "text/plain": [
<<<<<<< HEAD
       "142"
      ]
     },
     "execution_count": 23,
=======
       "0    100\n",
       "dtype: int64"
      ]
     },
     "execution_count": 6,
>>>>>>> edd6aa98e26a8313d50e2398e439584f250709cc
     "metadata": {},
     "output_type": "execute_result"
    }
   ],
   "source": [
<<<<<<< HEAD
    "len(df)"
   ]
  },
  {
   "cell_type": "code",
   "execution_count": 29,
   "metadata": {},
   "outputs": [
    {
     "data": {
      "text/plain": [
       "142"
      ]
     },
     "execution_count": 29,
     "metadata": {},
     "output_type": "execute_result"
    }
   ],
   "source": [
    "df['Year'].count()"
=======
    "x = list(range(0,100))\n",
    "y = pd.DataFrame(x)\n",
    "y.count()"
>>>>>>> edd6aa98e26a8313d50e2398e439584f250709cc
   ]
  },
  {
   "cell_type": "markdown",
   "metadata": {},
   "source": [
    "#### Find the monthly mean\n",
    "\n",
    "Remember!\n",
    "1. \"your data\".mean(axis = **0**) - mean along the columns\n",
    "1. \"your data\".mean(axis = **1**) - mean along the rows"
   ]
  },
  {
   "cell_type": "markdown",
   "metadata": {},
   "source": [
    "# new function!\n",
    "\n",
    "df.set_index(\"Date\")"
   ]
  },
  {
   "cell_type": "code",
<<<<<<< HEAD
   "execution_count": 58,
   "metadata": {},
   "outputs": [],
   "source": [
    "#save it as a new function\n",
    "df = df.set_index(\"Year\")"
   ]
  },
  {
   "cell_type": "code",
   "execution_count": 61,
   "metadata": {},
   "outputs": [
    {
     "data": {
      "text/html": [
       "<div>\n",
       "<style scoped>\n",
       "    .dataframe tbody tr th:only-of-type {\n",
       "        vertical-align: middle;\n",
       "    }\n",
       "\n",
       "    .dataframe tbody tr th {\n",
       "        vertical-align: top;\n",
       "    }\n",
       "\n",
       "    .dataframe thead th {\n",
       "        text-align: right;\n",
       "    }\n",
       "</style>\n",
       "<table border=\"1\" class=\"dataframe\">\n",
       "  <thead>\n",
       "    <tr style=\"text-align: right;\">\n",
       "      <th></th>\n",
       "      <th>1</th>\n",
       "      <th>2</th>\n",
       "      <th>3</th>\n",
       "      <th>4</th>\n",
       "      <th>5</th>\n",
       "      <th>6</th>\n",
       "      <th>7</th>\n",
       "      <th>8</th>\n",
       "      <th>9</th>\n",
       "      <th>10</th>\n",
       "      <th>11</th>\n",
       "      <th>12</th>\n",
       "    </tr>\n",
       "    <tr>\n",
       "      <th>Year</th>\n",
       "      <th></th>\n",
       "      <th></th>\n",
       "      <th></th>\n",
       "      <th></th>\n",
       "      <th></th>\n",
       "      <th></th>\n",
       "      <th></th>\n",
       "      <th></th>\n",
       "      <th></th>\n",
       "      <th></th>\n",
       "      <th></th>\n",
       "      <th></th>\n",
       "    </tr>\n",
       "  </thead>\n",
       "  <tbody>\n",
       "    <tr>\n",
       "      <th>1871</th>\n",
       "      <td>-0.25</td>\n",
       "      <td>-0.58</td>\n",
       "      <td>-0.43</td>\n",
       "      <td>-0.50</td>\n",
       "      <td>-0.70</td>\n",
       "      <td>-0.53</td>\n",
       "      <td>-0.60</td>\n",
       "      <td>-0.33</td>\n",
       "      <td>-0.24</td>\n",
       "      <td>-0.33</td>\n",
       "      <td>-0.31</td>\n",
       "      <td>-0.58</td>\n",
       "    </tr>\n",
       "    <tr>\n",
       "      <th>1872</th>\n",
       "      <td>-0.72</td>\n",
       "      <td>-0.62</td>\n",
       "      <td>-0.50</td>\n",
       "      <td>-0.77</td>\n",
       "      <td>-0.62</td>\n",
       "      <td>-0.52</td>\n",
       "      <td>-0.32</td>\n",
       "      <td>-0.85</td>\n",
       "      <td>-1.02</td>\n",
       "      <td>-0.94</td>\n",
       "      <td>-0.79</td>\n",
       "      <td>-0.88</td>\n",
       "    </tr>\n",
       "    <tr>\n",
       "      <th>1873</th>\n",
       "      <td>-0.78</td>\n",
       "      <td>-1.01</td>\n",
       "      <td>-1.31</td>\n",
       "      <td>-0.67</td>\n",
       "      <td>-0.53</td>\n",
       "      <td>-0.48</td>\n",
       "      <td>-0.58</td>\n",
       "      <td>-0.39</td>\n",
       "      <td>-0.34</td>\n",
       "      <td>-0.78</td>\n",
       "      <td>-0.77</td>\n",
       "      <td>-0.70</td>\n",
       "    </tr>\n",
       "    <tr>\n",
       "      <th>1874</th>\n",
       "      <td>-0.93</td>\n",
       "      <td>-1.06</td>\n",
       "      <td>-1.40</td>\n",
       "      <td>-0.94</td>\n",
       "      <td>-0.86</td>\n",
       "      <td>-0.72</td>\n",
       "      <td>-1.00</td>\n",
       "      <td>-1.05</td>\n",
       "      <td>-1.13</td>\n",
       "      <td>-1.25</td>\n",
       "      <td>-1.33</td>\n",
       "      <td>-1.14</td>\n",
       "    </tr>\n",
       "    <tr>\n",
       "      <th>1875</th>\n",
       "      <td>-0.71</td>\n",
       "      <td>-0.37</td>\n",
       "      <td>-0.59</td>\n",
       "      <td>-0.87</td>\n",
       "      <td>-1.09</td>\n",
       "      <td>-0.76</td>\n",
       "      <td>-0.85</td>\n",
       "      <td>-0.81</td>\n",
       "      <td>-0.91</td>\n",
       "      <td>-0.83</td>\n",
       "      <td>-0.64</td>\n",
       "      <td>-0.75</td>\n",
       "    </tr>\n",
       "  </tbody>\n",
       "</table>\n",
       "</div>"
      ],
      "text/plain": [
       "        1     2     3     4     5     6     7     8     9     10    11    12\n",
       "Year                                                                        \n",
       "1871 -0.25 -0.58 -0.43 -0.50 -0.70 -0.53 -0.60 -0.33 -0.24 -0.33 -0.31 -0.58\n",
       "1872 -0.72 -0.62 -0.50 -0.77 -0.62 -0.52 -0.32 -0.85 -1.02 -0.94 -0.79 -0.88\n",
       "1873 -0.78 -1.01 -1.31 -0.67 -0.53 -0.48 -0.58 -0.39 -0.34 -0.78 -0.77 -0.70\n",
       "1874 -0.93 -1.06 -1.40 -0.94 -0.86 -0.72 -1.00 -1.05 -1.13 -1.25 -1.33 -1.14\n",
       "1875 -0.71 -0.37 -0.59 -0.87 -1.09 -0.76 -0.85 -0.81 -0.91 -0.83 -0.64 -0.75"
      ]
     },
     "execution_count": 61,
=======
   "execution_count": 7,
   "metadata": {},
   "outputs": [
    {
     "data": {
      "text/plain": [
       "4"
      ]
     },
     "execution_count": 7,
>>>>>>> edd6aa98e26a8313d50e2398e439584f250709cc
     "metadata": {},
     "output_type": "execute_result"
    }
   ],
   "source": [
<<<<<<< HEAD
    "df.head()"
   ]
  },
  {
   "cell_type": "code",
   "execution_count": 59,
   "metadata": {},
   "outputs": [
    {
     "name": "stdout",
     "output_type": "stream",
     "text": [
      "1    -0.062817\n",
      "2    -0.054789\n",
      "3    -0.129507\n",
      "4    -0.126690\n",
      "5    -0.175423\n",
      "6    -0.123944\n",
      "7    -0.150352\n",
      "8    -0.115423\n",
      "9    -0.135845\n",
      "10   -0.113521\n",
      "11   -0.125423\n",
      "12   -0.052535\n",
      "dtype: float64\n"
     ]
    }
   ],
   "source": [
    "print(df.mean(axis=0))"
=======
    "5 -1"
>>>>>>> edd6aa98e26a8313d50e2398e439584f250709cc
   ]
  },
  {
   "cell_type": "markdown",
   "metadata": {},
   "source": [
    "#### Plot your result"
   ]
  },
  {
   "cell_type": "code",
   "execution_count": 85,
   "metadata": {},
   "outputs": [
    {
     "name": "stdout",
     "output_type": "stream",
     "text": [
      "Index([1, 2, 3, 4, 5, 6, 7, 8, 9, 10, 11, 12], dtype='object')\n",
      "Int64Index([1871, 1872, 1873, 1874, 1875, 1876, 1877, 1878, 1879, 1880,\n",
      "            ...\n",
      "            2003, 2004, 2005, 2006, 2007, 2008, 2009, 2010, 2011, 2012],\n",
      "           dtype='int64', name='Year', length=142)\n"
     ]
    }
   ],
   "source": [
    "months = df.columns\n",
    "print(df.columns)\n",
    "years = df.index\n",
    "print(df.index)"
   ]
  },
  {
   "cell_type": "code",
   "execution_count": 119,
   "metadata": {},
   "outputs": [],
   "source": [
    "monthly = df.mean(axis=0)"
   ]
  },
  {
   "cell_type": "code",
   "execution_count": 90,
   "metadata": {},
   "outputs": [],
   "source": [
    "yearly = df.mean(axis=1)"
   ]
  },
  {
   "cell_type": "code",
   "execution_count": 84,
   "metadata": {},
   "outputs": [
    {
     "data": {
      "text/plain": [
       "1    -0.062817\n",
       "2    -0.054789\n",
       "3    -0.129507\n",
       "4    -0.126690\n",
       "5    -0.175423\n",
       "6    -0.123944\n",
       "7    -0.150352\n",
       "8    -0.115423\n",
       "9    -0.135845\n",
       "10   -0.113521\n",
       "11   -0.125423\n",
       "12   -0.052535\n",
       "dtype: float64"
      ]
     },
     "execution_count": 84,
     "metadata": {},
     "output_type": "execute_result"
    }
   ],
   "source": [
    "df.mean()"
   ]
  },
  {
   "cell_type": "code",
   "execution_count": 83,
   "metadata": {},
   "outputs": [],
   "source": [
    "del df[\"month_avg\"]"
   ]
  },
  {
   "cell_type": "code",
   "execution_count": 91,
   "metadata": {},
   "outputs": [
    {
     "name": "stdout",
     "output_type": "stream",
     "text": [
      "1    -0.062817\n",
      "2    -0.054789\n",
      "3    -0.129507\n",
      "4    -0.126690\n",
      "5    -0.175423\n",
      "6    -0.123944\n",
      "7    -0.150352\n",
      "8    -0.115423\n",
      "9    -0.135845\n",
      "10   -0.113521\n",
      "11   -0.125423\n",
      "12   -0.052535\n",
      "dtype: float64\n",
      "Index([1, 2, 3, 4, 5, 6, 7, 8, 9, 10, 11, 12], dtype='object')\n",
      "Int64Index([1871, 1872, 1873, 1874, 1875, 1876, 1877, 1878, 1879, 1880,\n",
      "            ...\n",
      "            2003, 2004, 2005, 2006, 2007, 2008, 2009, 2010, 2011, 2012],\n",
      "           dtype='int64', name='Year', length=142)\n",
      "Year\n",
      "1871   -0.448333\n",
      "1872   -0.712500\n",
      "1873   -0.695000\n",
      "1874   -1.067500\n",
      "1875   -0.765000\n",
      "1876   -0.500000\n",
      "1877    1.233333\n",
      "1878    0.554167\n",
      "1879   -0.685000\n",
      "1880   -0.370833\n",
      "1881   -0.042500\n",
      "1882   -0.462500\n",
      "1883   -0.263333\n",
      "1884    0.167500\n",
      "1885    0.382500\n",
      "1886   -0.774167\n",
      "1887   -0.599167\n",
      "1888    0.812500\n",
      "1889   -0.096667\n",
      "1890   -1.279167\n",
      "1891   -0.006667\n",
      "1892   -0.835000\n",
      "1893   -1.249167\n",
      "1894   -0.920000\n",
      "1895   -0.022500\n",
      "1896    0.568333\n",
      "1897    0.071667\n",
      "1898   -0.558333\n",
      "1899    0.210833\n",
      "1900    0.741667\n",
      "          ...   \n",
      "1983    0.445833\n",
      "1984   -0.720000\n",
      "1985   -0.711667\n",
      "1986    0.084167\n",
      "1987    1.224167\n",
      "1988   -1.019167\n",
      "1989   -0.788333\n",
      "1990    0.177500\n",
      "1991    0.597500\n",
      "1992    0.622500\n",
      "1993    0.436667\n",
      "1994    0.381667\n",
      "1995   -0.025000\n",
      "1996   -0.370000\n",
      "1997    1.190000\n",
      "1998    0.072500\n",
      "1999   -1.094167\n",
      "2000   -0.872500\n",
      "2001   -0.336667\n",
      "2002    0.589167\n",
      "2003    0.239167\n",
      "2004    0.369167\n",
      "2005    0.035833\n",
      "2006    0.094167\n",
      "2007   -0.560000\n",
      "2008   -0.713333\n",
      "2009    0.352500\n",
      "2010   -0.430000\n",
      "2011   -0.848333\n",
      "2012   -0.031667\n",
      "Length: 142, dtype: float64\n"
     ]
    }
   ],
   "source": [
    "print(monthly)\n",
    "print(months)\n",
    "print(years)\n",
    "print(yearly)"
   ]
  },
  {
   "cell_type": "code",
   "execution_count": 96,
   "metadata": {},
   "outputs": [
    {
     "data": {
      "text/plain": [
       "Text(0.5, 1.0, 'Monthly ENSO Average')"
      ]
     },
     "execution_count": 96,
     "metadata": {},
     "output_type": "execute_result"
    },
    {
     "data": {
      "image/png": "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\n",
      "text/plain": [
       "<Figure size 432x288 with 1 Axes>"
      ]
     },
     "metadata": {
      "needs_background": "light"
     },
     "output_type": "display_data"
    }
   ],
   "source": [
    "#All Data\n",
    "plt.plot(months, monthly)\n",
    "plt.xlabel(\"Months\")\n",
    "plt.ylabel(\"Monthly\")\n",
    "plt.title(\"Monthly ENSO Average\")"
   ]
  },
  {
   "cell_type": "code",
   "execution_count": 97,
   "metadata": {},
   "outputs": [
    {
     "data": {
      "text/plain": [
       "Text(0.5, 1.0, 'Yearly ENSO Average')"
      ]
     },
     "execution_count": 97,
     "metadata": {},
     "output_type": "execute_result"
    },
    {
     "data": {
      "image/png": "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\n",
      "text/plain": [
       "<Figure size 432x288 with 1 Axes>"
      ]
     },
     "metadata": {
      "needs_background": "light"
     },
     "output_type": "display_data"
    }
   ],
   "source": [
    "plt.plot(years, yearly)\n",
    "plt.xlabel(\"Years\")\n",
    "plt.ylabel(\"Yearly\")\n",
    "plt.title(\"Yearly ENSO Average\")"
   ]
  },
  {
   "cell_type": "markdown",
   "metadata": {},
   "source": [
    "#### When is ENSO the strongest? Sort your values to check! "
   ]
  },
  {
   "cell_type": "code",
   "execution_count": null,
   "metadata": {},
   "outputs": [],
   "source": [
    "print()"
   ]
  },
  {
   "cell_type": "code",
   "execution_count": 140,
   "metadata": {},
   "outputs": [
    {
     "ename": "KeyError",
     "evalue": "1",
     "output_type": "error",
     "traceback": [
      "\u001b[0;31m---------------------------------------------------------------------------\u001b[0m",
      "\u001b[0;31mKeyError\u001b[0m                                  Traceback (most recent call last)",
      "\u001b[0;32m~/anaconda3/lib/python3.7/site-packages/pandas/core/indexes/base.py\u001b[0m in \u001b[0;36mget_loc\u001b[0;34m(self, key, method, tolerance)\u001b[0m\n\u001b[1;32m   2656\u001b[0m             \u001b[0;32mtry\u001b[0m\u001b[0;34m:\u001b[0m\u001b[0;34m\u001b[0m\u001b[0;34m\u001b[0m\u001b[0m\n\u001b[0;32m-> 2657\u001b[0;31m                 \u001b[0;32mreturn\u001b[0m \u001b[0mself\u001b[0m\u001b[0;34m.\u001b[0m\u001b[0m_engine\u001b[0m\u001b[0;34m.\u001b[0m\u001b[0mget_loc\u001b[0m\u001b[0;34m(\u001b[0m\u001b[0mkey\u001b[0m\u001b[0;34m)\u001b[0m\u001b[0;34m\u001b[0m\u001b[0;34m\u001b[0m\u001b[0m\n\u001b[0m\u001b[1;32m   2658\u001b[0m             \u001b[0;32mexcept\u001b[0m \u001b[0mKeyError\u001b[0m\u001b[0;34m:\u001b[0m\u001b[0;34m\u001b[0m\u001b[0;34m\u001b[0m\u001b[0m\n",
      "\u001b[0;32mpandas/_libs/index.pyx\u001b[0m in \u001b[0;36mpandas._libs.index.IndexEngine.get_loc\u001b[0;34m()\u001b[0m\n",
      "\u001b[0;32mpandas/_libs/index.pyx\u001b[0m in \u001b[0;36mpandas._libs.index.IndexEngine.get_loc\u001b[0;34m()\u001b[0m\n",
      "\u001b[0;32mpandas/_libs/hashtable_class_helper.pxi\u001b[0m in \u001b[0;36mpandas._libs.hashtable.Int64HashTable.get_item\u001b[0;34m()\u001b[0m\n",
      "\u001b[0;32mpandas/_libs/hashtable_class_helper.pxi\u001b[0m in \u001b[0;36mpandas._libs.hashtable.Int64HashTable.get_item\u001b[0;34m()\u001b[0m\n",
      "\u001b[0;31mKeyError\u001b[0m: 1",
      "\nDuring handling of the above exception, another exception occurred:\n",
      "\u001b[0;31mKeyError\u001b[0m                                  Traceback (most recent call last)",
      "\u001b[0;32m<ipython-input-140-e7ef97ecaed2>\u001b[0m in \u001b[0;36m<module>\u001b[0;34m\u001b[0m\n\u001b[1;32m      2\u001b[0m \u001b[0mmonths\u001b[0m \u001b[0;34m=\u001b[0m \u001b[0mdf\u001b[0m\u001b[0;34m.\u001b[0m\u001b[0mcolumns\u001b[0m\u001b[0;34m\u001b[0m\u001b[0;34m\u001b[0m\u001b[0m\n\u001b[1;32m      3\u001b[0m \u001b[0;32mfor\u001b[0m \u001b[0mi\u001b[0m \u001b[0;32min\u001b[0m \u001b[0mmonths\u001b[0m\u001b[0;34m:\u001b[0m\u001b[0;34m\u001b[0m\u001b[0;34m\u001b[0m\u001b[0m\n\u001b[0;32m----> 4\u001b[0;31m     \u001b[0;32mif\u001b[0m \u001b[0mdf\u001b[0m\u001b[0;34m.\u001b[0m\u001b[0mloc\u001b[0m\u001b[0;34m[\u001b[0m\u001b[0mi\u001b[0m\u001b[0;34m]\u001b[0m \u001b[0;34m>\u001b[0m \u001b[0;34m-\u001b[0m\u001b[0;36m.10\u001b[0m\u001b[0;34m:\u001b[0m\u001b[0;34m\u001b[0m\u001b[0;34m\u001b[0m\u001b[0m\n\u001b[0m\u001b[1;32m      5\u001b[0m         \u001b[0mprint\u001b[0m\u001b[0;34m(\u001b[0m\u001b[0mi\u001b[0m\u001b[0;34m)\u001b[0m\u001b[0;34m\u001b[0m\u001b[0;34m\u001b[0m\u001b[0m\n",
      "\u001b[0;32m~/anaconda3/lib/python3.7/site-packages/pandas/core/indexing.py\u001b[0m in \u001b[0;36m__getitem__\u001b[0;34m(self, key)\u001b[0m\n\u001b[1;32m   1498\u001b[0m \u001b[0;34m\u001b[0m\u001b[0m\n\u001b[1;32m   1499\u001b[0m             \u001b[0mmaybe_callable\u001b[0m \u001b[0;34m=\u001b[0m \u001b[0mcom\u001b[0m\u001b[0;34m.\u001b[0m\u001b[0mapply_if_callable\u001b[0m\u001b[0;34m(\u001b[0m\u001b[0mkey\u001b[0m\u001b[0;34m,\u001b[0m \u001b[0mself\u001b[0m\u001b[0;34m.\u001b[0m\u001b[0mobj\u001b[0m\u001b[0;34m)\u001b[0m\u001b[0;34m\u001b[0m\u001b[0;34m\u001b[0m\u001b[0m\n\u001b[0;32m-> 1500\u001b[0;31m             \u001b[0;32mreturn\u001b[0m \u001b[0mself\u001b[0m\u001b[0;34m.\u001b[0m\u001b[0m_getitem_axis\u001b[0m\u001b[0;34m(\u001b[0m\u001b[0mmaybe_callable\u001b[0m\u001b[0;34m,\u001b[0m \u001b[0maxis\u001b[0m\u001b[0;34m=\u001b[0m\u001b[0maxis\u001b[0m\u001b[0;34m)\u001b[0m\u001b[0;34m\u001b[0m\u001b[0;34m\u001b[0m\u001b[0m\n\u001b[0m\u001b[1;32m   1501\u001b[0m \u001b[0;34m\u001b[0m\u001b[0m\n\u001b[1;32m   1502\u001b[0m     \u001b[0;32mdef\u001b[0m \u001b[0m_is_scalar_access\u001b[0m\u001b[0;34m(\u001b[0m\u001b[0mself\u001b[0m\u001b[0;34m,\u001b[0m \u001b[0mkey\u001b[0m\u001b[0;34m)\u001b[0m\u001b[0;34m:\u001b[0m\u001b[0;34m\u001b[0m\u001b[0;34m\u001b[0m\u001b[0m\n",
      "\u001b[0;32m~/anaconda3/lib/python3.7/site-packages/pandas/core/indexing.py\u001b[0m in \u001b[0;36m_getitem_axis\u001b[0;34m(self, key, axis)\u001b[0m\n\u001b[1;32m   1911\u001b[0m         \u001b[0;31m# fall thru to straight lookup\u001b[0m\u001b[0;34m\u001b[0m\u001b[0;34m\u001b[0m\u001b[0;34m\u001b[0m\u001b[0m\n\u001b[1;32m   1912\u001b[0m         \u001b[0mself\u001b[0m\u001b[0;34m.\u001b[0m\u001b[0m_validate_key\u001b[0m\u001b[0;34m(\u001b[0m\u001b[0mkey\u001b[0m\u001b[0;34m,\u001b[0m \u001b[0maxis\u001b[0m\u001b[0;34m)\u001b[0m\u001b[0;34m\u001b[0m\u001b[0;34m\u001b[0m\u001b[0m\n\u001b[0;32m-> 1913\u001b[0;31m         \u001b[0;32mreturn\u001b[0m \u001b[0mself\u001b[0m\u001b[0;34m.\u001b[0m\u001b[0m_get_label\u001b[0m\u001b[0;34m(\u001b[0m\u001b[0mkey\u001b[0m\u001b[0;34m,\u001b[0m \u001b[0maxis\u001b[0m\u001b[0;34m=\u001b[0m\u001b[0maxis\u001b[0m\u001b[0;34m)\u001b[0m\u001b[0;34m\u001b[0m\u001b[0;34m\u001b[0m\u001b[0m\n\u001b[0m\u001b[1;32m   1914\u001b[0m \u001b[0;34m\u001b[0m\u001b[0m\n\u001b[1;32m   1915\u001b[0m \u001b[0;34m\u001b[0m\u001b[0m\n",
      "\u001b[0;32m~/anaconda3/lib/python3.7/site-packages/pandas/core/indexing.py\u001b[0m in \u001b[0;36m_get_label\u001b[0;34m(self, label, axis)\u001b[0m\n\u001b[1;32m    139\u001b[0m             \u001b[0;32mraise\u001b[0m \u001b[0mIndexingError\u001b[0m\u001b[0;34m(\u001b[0m\u001b[0;34m'no slices here, handle elsewhere'\u001b[0m\u001b[0;34m)\u001b[0m\u001b[0;34m\u001b[0m\u001b[0;34m\u001b[0m\u001b[0m\n\u001b[1;32m    140\u001b[0m \u001b[0;34m\u001b[0m\u001b[0m\n\u001b[0;32m--> 141\u001b[0;31m         \u001b[0;32mreturn\u001b[0m \u001b[0mself\u001b[0m\u001b[0;34m.\u001b[0m\u001b[0mobj\u001b[0m\u001b[0;34m.\u001b[0m\u001b[0m_xs\u001b[0m\u001b[0;34m(\u001b[0m\u001b[0mlabel\u001b[0m\u001b[0;34m,\u001b[0m \u001b[0maxis\u001b[0m\u001b[0;34m=\u001b[0m\u001b[0maxis\u001b[0m\u001b[0;34m)\u001b[0m\u001b[0;34m\u001b[0m\u001b[0;34m\u001b[0m\u001b[0m\n\u001b[0m\u001b[1;32m    142\u001b[0m \u001b[0;34m\u001b[0m\u001b[0m\n\u001b[1;32m    143\u001b[0m     \u001b[0;32mdef\u001b[0m \u001b[0m_get_loc\u001b[0m\u001b[0;34m(\u001b[0m\u001b[0mself\u001b[0m\u001b[0;34m,\u001b[0m \u001b[0mkey\u001b[0m\u001b[0;34m,\u001b[0m \u001b[0maxis\u001b[0m\u001b[0;34m=\u001b[0m\u001b[0;32mNone\u001b[0m\u001b[0;34m)\u001b[0m\u001b[0;34m:\u001b[0m\u001b[0;34m\u001b[0m\u001b[0;34m\u001b[0m\u001b[0m\n",
      "\u001b[0;32m~/anaconda3/lib/python3.7/site-packages/pandas/core/generic.py\u001b[0m in \u001b[0;36mxs\u001b[0;34m(self, key, axis, level, drop_level)\u001b[0m\n\u001b[1;32m   3583\u001b[0m                                                       drop_level=drop_level)\n\u001b[1;32m   3584\u001b[0m         \u001b[0;32melse\u001b[0m\u001b[0;34m:\u001b[0m\u001b[0;34m\u001b[0m\u001b[0;34m\u001b[0m\u001b[0m\n\u001b[0;32m-> 3585\u001b[0;31m             \u001b[0mloc\u001b[0m \u001b[0;34m=\u001b[0m \u001b[0mself\u001b[0m\u001b[0;34m.\u001b[0m\u001b[0mindex\u001b[0m\u001b[0;34m.\u001b[0m\u001b[0mget_loc\u001b[0m\u001b[0;34m(\u001b[0m\u001b[0mkey\u001b[0m\u001b[0;34m)\u001b[0m\u001b[0;34m\u001b[0m\u001b[0;34m\u001b[0m\u001b[0m\n\u001b[0m\u001b[1;32m   3586\u001b[0m \u001b[0;34m\u001b[0m\u001b[0m\n\u001b[1;32m   3587\u001b[0m             \u001b[0;32mif\u001b[0m \u001b[0misinstance\u001b[0m\u001b[0;34m(\u001b[0m\u001b[0mloc\u001b[0m\u001b[0;34m,\u001b[0m \u001b[0mnp\u001b[0m\u001b[0;34m.\u001b[0m\u001b[0mndarray\u001b[0m\u001b[0;34m)\u001b[0m\u001b[0;34m:\u001b[0m\u001b[0;34m\u001b[0m\u001b[0;34m\u001b[0m\u001b[0m\n",
      "\u001b[0;32m~/anaconda3/lib/python3.7/site-packages/pandas/core/indexes/base.py\u001b[0m in \u001b[0;36mget_loc\u001b[0;34m(self, key, method, tolerance)\u001b[0m\n\u001b[1;32m   2657\u001b[0m                 \u001b[0;32mreturn\u001b[0m \u001b[0mself\u001b[0m\u001b[0;34m.\u001b[0m\u001b[0m_engine\u001b[0m\u001b[0;34m.\u001b[0m\u001b[0mget_loc\u001b[0m\u001b[0;34m(\u001b[0m\u001b[0mkey\u001b[0m\u001b[0;34m)\u001b[0m\u001b[0;34m\u001b[0m\u001b[0;34m\u001b[0m\u001b[0m\n\u001b[1;32m   2658\u001b[0m             \u001b[0;32mexcept\u001b[0m \u001b[0mKeyError\u001b[0m\u001b[0;34m:\u001b[0m\u001b[0;34m\u001b[0m\u001b[0;34m\u001b[0m\u001b[0m\n\u001b[0;32m-> 2659\u001b[0;31m                 \u001b[0;32mreturn\u001b[0m \u001b[0mself\u001b[0m\u001b[0;34m.\u001b[0m\u001b[0m_engine\u001b[0m\u001b[0;34m.\u001b[0m\u001b[0mget_loc\u001b[0m\u001b[0;34m(\u001b[0m\u001b[0mself\u001b[0m\u001b[0;34m.\u001b[0m\u001b[0m_maybe_cast_indexer\u001b[0m\u001b[0;34m(\u001b[0m\u001b[0mkey\u001b[0m\u001b[0;34m)\u001b[0m\u001b[0;34m)\u001b[0m\u001b[0;34m\u001b[0m\u001b[0;34m\u001b[0m\u001b[0m\n\u001b[0m\u001b[1;32m   2660\u001b[0m         \u001b[0mindexer\u001b[0m \u001b[0;34m=\u001b[0m \u001b[0mself\u001b[0m\u001b[0;34m.\u001b[0m\u001b[0mget_indexer\u001b[0m\u001b[0;34m(\u001b[0m\u001b[0;34m[\u001b[0m\u001b[0mkey\u001b[0m\u001b[0;34m]\u001b[0m\u001b[0;34m,\u001b[0m \u001b[0mmethod\u001b[0m\u001b[0;34m=\u001b[0m\u001b[0mmethod\u001b[0m\u001b[0;34m,\u001b[0m \u001b[0mtolerance\u001b[0m\u001b[0;34m=\u001b[0m\u001b[0mtolerance\u001b[0m\u001b[0;34m)\u001b[0m\u001b[0;34m\u001b[0m\u001b[0;34m\u001b[0m\u001b[0m\n\u001b[1;32m   2661\u001b[0m         \u001b[0;32mif\u001b[0m \u001b[0mindexer\u001b[0m\u001b[0;34m.\u001b[0m\u001b[0mndim\u001b[0m \u001b[0;34m>\u001b[0m \u001b[0;36m1\u001b[0m \u001b[0;32mor\u001b[0m \u001b[0mindexer\u001b[0m\u001b[0;34m.\u001b[0m\u001b[0msize\u001b[0m \u001b[0;34m>\u001b[0m \u001b[0;36m1\u001b[0m\u001b[0;34m:\u001b[0m\u001b[0;34m\u001b[0m\u001b[0;34m\u001b[0m\u001b[0m\n",
      "\u001b[0;32mpandas/_libs/index.pyx\u001b[0m in \u001b[0;36mpandas._libs.index.IndexEngine.get_loc\u001b[0;34m()\u001b[0m\n",
      "\u001b[0;32mpandas/_libs/index.pyx\u001b[0m in \u001b[0;36mpandas._libs.index.IndexEngine.get_loc\u001b[0;34m()\u001b[0m\n",
      "\u001b[0;32mpandas/_libs/hashtable_class_helper.pxi\u001b[0m in \u001b[0;36mpandas._libs.hashtable.Int64HashTable.get_item\u001b[0;34m()\u001b[0m\n",
      "\u001b[0;32mpandas/_libs/hashtable_class_helper.pxi\u001b[0m in \u001b[0;36mpandas._libs.hashtable.Int64HashTable.get_item\u001b[0;34m()\u001b[0m\n",
      "\u001b[0;31mKeyError\u001b[0m: 1"
     ]
    }
   ],
   "source": [
    "#greater than -.10\n",
    "months = df.columns\n",
    "for i in months:\n",
    "    if df.loc[i] > -.10:\n",
    "        print(i)"
   ]
  },
  {
   "cell_type": "code",
   "execution_count": 120,
   "metadata": {},
   "outputs": [
    {
     "name": "stdout",
     "output_type": "stream",
     "text": [
      "1    -0.062817\n",
      "2    -0.054789\n",
      "3    -0.129507\n",
      "4    -0.126690\n",
      "5    -0.175423\n",
      "6    -0.123944\n",
      "7    -0.150352\n",
      "8    -0.115423\n",
      "9    -0.135845\n",
      "10   -0.113521\n",
      "11   -0.125423\n",
      "12   -0.052535\n",
      "dtype: float64\n"
     ]
    }
   ],
   "source": [
    "print(monthly)"
   ]
  },
  {
   "cell_type": "markdown",
   "metadata": {},
   "source": [
    "#### Create a new column for the annual mean"
   ]
  },
  {
   "cell_type": "code",
   "execution_count": null,
   "metadata": {},
   "outputs": [],
   "source": []
  },
  {
   "cell_type": "markdown",
   "metadata": {},
   "source": [
    "#### Plot out your result"
   ]
  },
  {
   "cell_type": "code",
   "execution_count": null,
   "metadata": {},
   "outputs": [],
   "source": []
  }
 ],
 "metadata": {
  "kernelspec": {
   "display_name": "Python 3",
   "language": "python",
   "name": "python3"
  },
  "language_info": {
   "codemirror_mode": {
    "name": "ipython",
    "version": 3
   },
   "file_extension": ".py",
   "mimetype": "text/x-python",
   "name": "python",
   "nbconvert_exporter": "python",
   "pygments_lexer": "ipython3",
   "version": "3.7.3"
  }
 },
 "nbformat": 4,
 "nbformat_minor": 2
}
