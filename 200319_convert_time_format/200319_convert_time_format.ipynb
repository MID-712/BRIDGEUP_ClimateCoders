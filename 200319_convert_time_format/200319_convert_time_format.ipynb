{
 "cells": [
  {
   "cell_type": "markdown",
   "metadata": {},
   "source": [
    "## Convert time format\n",
    "\n",
    "Our next step in processing our data is making our dates readable. \n",
    "\n",
    "For example:\n",
    "\n",
    "1880.5 = 1880 + ½ of a year = 1880 + 6 months = 06/1880 or June 1880\n",
    "\n",
    "**Our goal**: Convert the date column into separate columns for year and month"
   ]
  },
  {
   "cell_type": "markdown",
   "metadata": {},
   "source": [
    "### Step 1: Do it for one date \n",
    "\n",
    "**Some useful functions**\n",
    "\n",
    "numpy.ceil(**x**) : Returns the number x rounded to the closest and largest whole number\n",
    "* **x**: number or array\n",
    "\n",
    "numpy.floor(**x**) : Returns the number x rounded to the closest and smallest whole number\n",
    "* **x**: number or array\n",
    "\n",
    "numpy.round(**x**, **decimels**) : Returns the rounded number x or rounds all elements in array\n",
    "* **x**: number or array\n",
    "* **decimels**: number of decimels to round to\n",
    "\n",
    "numpy_array.astype(**data type**) : Converts elements in array to a different data type\n",
    "* **data type**: int, float, string etc"
   ]
  },
  {
   "cell_type": "code",
   "execution_count": 1,
   "metadata": {},
   "outputs": [],
   "source": [
    "import numpy as np"
   ]
  },
  {
   "cell_type": "code",
   "execution_count": 2,
   "metadata": {},
   "outputs": [
    {
     "name": "stdout",
     "output_type": "stream",
     "text": [
      "number: 2.5\n",
      "np.ceil(number): 3.0\n",
      "np.floor(number): 2.0\n",
      "np.round(number): 2.0\n",
      "\n",
      " array: [2.75 2.8  2.85 2.9  2.95 3.   3.05 3.1  3.15 3.2 ]\n",
      "np.ceil(array): [3. 3. 3. 3. 3. 3. 4. 4. 4. 4.]\n",
      "np.floor(array): [2. 2. 2. 2. 2. 2. 3. 3. 3. 3.]\n",
      "np.round(array): [3. 3. 3. 3. 3. 3. 3. 3. 3. 3.]\n",
      "\n",
      " array with elements as int: [2 2 2 2 2 2 3 3 3 3]\n"
     ]
    }
   ],
   "source": [
    "#Useful functions\n",
    "\n",
    "test = 2.5\n",
    "print('number:',test)\n",
    "print('np.ceil(number):', np.ceil(2.5))\n",
    "print('np.floor(number):', np.floor(2.5))\n",
    "print('np.round(number):', np.round(2.5,0))\n",
    "\n",
    "test_array = np.arange(2.75,3.25,0.05)\n",
    "print('\\n array:',test_array)\n",
    "print('np.ceil(array):', np.ceil(test_array))\n",
    "print('np.floor(array):', np.floor(test_array))\n",
    "print('np.round(array):', np.round(test_array,0))\n",
    "\n",
    "print('\\n array with elements as int:',test_array.astype(int))"
   ]
  },
  {
   "cell_type": "markdown",
   "metadata": {},
   "source": [
    "Let's start small. Find the year and month associated with the given test date."
   ]
  },
  {
   "cell_type": "code",
   "execution_count": 3,
   "metadata": {},
   "outputs": [
    {
     "name": "stdout",
     "output_type": "stream",
     "text": [
      "1880.5\n"
     ]
    }
   ],
   "source": [
    "date = 1880.5\n",
    "print(date)\n",
    "#What do these variables equal?\n",
    "#year =\n",
    "#month = "
   ]
  },
  {
   "cell_type": "markdown",
   "metadata": {},
   "source": [
    "### Step 2: Do it for an array of dates \n",
    "\n",
    "Remember: you can run operations on numpy arrays like they are numbers\n",
    "\n",
    "For example:\n",
    "\n",
    "```A = [1 , 2, 3]```\n",
    "\n",
    "```A * 2 = [2 , 4, 6]```"
   ]
  },
  {
   "cell_type": "code",
   "execution_count": 4,
   "metadata": {},
   "outputs": [
    {
     "name": "stdout",
     "output_type": "stream",
     "text": [
      "[1880.         1880.08333333 1880.16666667 1880.25       1880.33333333\n",
      " 1880.41666667 1880.5        1880.58333333 1880.66666667 1880.75\n",
      " 1880.83333333 1880.91666667 1881.         1881.08333333 1881.16666667\n",
      " 1881.25       1881.33333333 1881.41666667 1881.5        1881.58333333\n",
      " 1881.66666667 1881.75       1881.83333333 1881.91666667 1882.        ]\n",
      "[1880.  1880.1 1880.2 1880.2 1880.3 1880.4 1880.5 1880.6 1880.7 1880.7\n",
      " 1880.8 1880.9 1881.  1881.1 1881.2 1881.2 1881.3 1881.4 1881.5 1881.6\n",
      " 1881.7 1881.7 1881.8 1881.9 1882. ]\n",
      "[1880. 1880. 1880. 1880. 1880. 1880. 1880. 1880. 1880. 1880. 1880. 1880.\n",
      " 1881. 1881. 1881. 1881. 1881. 1881. 1881. 1881. 1881. 1881. 1881. 1881.\n",
      " 1882.]\n"
     ]
    }
   ],
   "source": [
    "date_array = np.arange(1880, 1882.05, 1/12)\n",
    "print(date_array)\n",
    "#print(date_array*5/6)\n",
    "\n",
    "year_array_rounded = np.round(date_array, 1)\n",
    "print(year_array_rounded)\n",
    "\n",
    "year_array_floor = np.floor(year_array_rounded)\n",
    "print(year_array_floor)\n",
    "#What do these arrays equal? \n",
    "#year_array = np.arange(1880, 1882.05, 1/3)\n",
    "#month_array = np.arange(1880, 1882.05, 1/12)"
   ]
  },
  {
   "cell_type": "code",
   "execution_count": 5,
   "metadata": {},
   "outputs": [
    {
     "name": "stdout",
     "output_type": "stream",
     "text": [
      "[1880.         1880.08333333 1880.16666667 1880.25       1880.33333333\n",
      " 1880.41666667 1880.5        1880.58333333 1880.66666667 1880.75\n",
      " 1880.83333333 1880.91666667 1881.         1881.08333333 1881.16666667\n",
      " 1881.25       1881.33333333 1881.41666667 1881.5        1881.58333333\n",
      " 1881.66666667 1881.75       1881.83333333 1881.91666667 1882.        ]\n",
      "\n",
      " [ 1.  2.  3.  4.  5.  6.  7.  8.  9. 10. 11. 12.  1.  2.  3.  4.  5.  6.\n",
      "  7.  8.  9. 10. 11. 12.  1.]\n"
     ]
    }
   ],
   "source": [
    "date_array = np.arange(1880, 1882.05, 1/12)\n",
    "print(date_array)\n",
    "\n",
    "month_array = np.ceil(12*(date_array - year_array_floor)+1)\n",
    "print('\\n', month_array)"
   ]
  },
  {
   "cell_type": "markdown",
   "metadata": {},
   "source": [
    "### Step 3: Do this for a Pandas data column\n",
    "\n",
    "Remember: pandas columns work exactly like numpy arrays"
   ]
  },
  {
   "cell_type": "code",
   "execution_count": 6,
   "metadata": {},
   "outputs": [],
   "source": [
    "import pandas as pd"
   ]
  },
  {
   "cell_type": "code",
   "execution_count": 7,
   "metadata": {},
   "outputs": [
    {
     "name": "stdout",
     "output_type": "stream",
     "text": [
      "          Date      Data\n",
      "0  1880.000000  0.372875\n",
      "1  1880.083333  0.836821\n",
      "2  1880.166667  0.479535\n",
      "3  1880.250000  0.929687\n",
      "4  1880.333333  0.817060\n",
      "\n",
      " 0    1880.000\n",
      "1    1880.083\n",
      "2    1880.167\n",
      "3    1880.250\n",
      "4    1880.333\n",
      "Name: Date, dtype: float64\n",
      "\n",
      " 0    1880.0\n",
      "1    1880.0\n",
      "2    1880.0\n",
      "3    1880.0\n",
      "4    1880.0\n",
      "Name: Date, dtype: float64\n",
      "\n",
      " 0    1.0\n",
      "1    2.0\n",
      "2    3.0\n",
      "3    4.0\n",
      "4    5.0\n",
      "Name: Date, dtype: float64\n"
     ]
    }
   ],
   "source": [
    "date_df = pd.DataFrame({'Date':date_array,'Data':np.random.rand(len(date_array))})\n",
    "print(date_df.head())\n",
    "#What do these columns equal?\n",
    "#date_df['Year'] = \n",
    "#date_df['Month'] =\n",
    "\n",
    "#round to two decimal places\n",
    "year_df_rounded = np.round(date_df['Date'],3)\n",
    "print('\\n', year_df_rounded.head())\n",
    "\n",
    "#Round to lowest whole number\n",
    "year_df_floor = np.floor(year_df_rounded)\n",
    "print('\\n', year_df_floor.head())\n",
    "\n",
    "#find month\n",
    "month_df = np.ceil(12*(date_df['Date']- year_df_floor)+1)\n",
    "print('\\n', month_df.head())"
   ]
  },
  {
   "cell_type": "code",
   "execution_count": 8,
   "metadata": {},
   "outputs": [
    {
     "name": "stdout",
     "output_type": "stream",
     "text": [
      "          Date      Data    Year  Month\n",
      "0  1880.000000  0.372875  1880.0    1.0\n",
      "1  1880.083333  0.836821  1880.0    2.0\n",
      "2  1880.166667  0.479535  1880.0    3.0\n",
      "3  1880.250000  0.929687  1880.0    4.0\n",
      "4  1880.333333  0.817060  1880.0    5.0\n"
     ]
    }
   ],
   "source": [
    "#create column for year\n",
    "date_df['Year'] = year_df_floor\n",
    "\n",
    "#create new column for month\n",
    "date_df['Month']= month_df\n",
    "\n",
    "print(date_df.head())\n",
    "\n"
   ]
  },
  {
   "cell_type": "markdown",
   "metadata": {},
   "source": [
    "### Step 4: Write a function\n",
    "\n",
    "Write a function that takes any Pandas column with dates in the this format and creates a new dataframe with columns for year and month instead.  \n",
    "\n",
    "Discuss in groups about what will go into this skeleton for a function and write your pseudo-code in your lab notes.\n",
    "\n",
    "```def (function_inputs):\n",
    "    do something\n",
    "    return function_outputs```\n",
    "        "
   ]
  },
  {
   "cell_type": "code",
   "execution_count": 9,
   "metadata": {},
   "outputs": [],
   "source": [
    "#Function goes here\n",
    "\n",
    "def convert_date_to_year_month(x):\n",
    "    #round to two decimal places\n",
    "    year_df_rounded = np.round(x['Date'],3)\n",
    "\n",
    "    #Round to lowest whole number\n",
    "    year_df_floor = np.floor(year_df_rounded)\n",
    "    \n",
    "     #create column for year\n",
    "    x['Year'] = year_df_floor\n",
    "\n",
    "    #find month\n",
    "    month_df = np.ceil(12*(x['Date']- year_df_floor)+1)\n",
    "\n",
    "    #create new column for month\n",
    "    x['Month']= month_df\n",
    "\n",
    "    return x"
   ]
  },
  {
   "cell_type": "code",
   "execution_count": 10,
   "metadata": {},
   "outputs": [
    {
     "data": {
      "text/html": [
       "<div>\n",
       "<style scoped>\n",
       "    .dataframe tbody tr th:only-of-type {\n",
       "        vertical-align: middle;\n",
       "    }\n",
       "\n",
       "    .dataframe tbody tr th {\n",
       "        vertical-align: top;\n",
       "    }\n",
       "\n",
       "    .dataframe thead th {\n",
       "        text-align: right;\n",
       "    }\n",
       "</style>\n",
       "<table border=\"1\" class=\"dataframe\">\n",
       "  <thead>\n",
       "    <tr style=\"text-align: right;\">\n",
       "      <th></th>\n",
       "      <th>Date</th>\n",
       "      <th>Data</th>\n",
       "      <th>Year</th>\n",
       "      <th>Month</th>\n",
       "    </tr>\n",
       "  </thead>\n",
       "  <tbody>\n",
       "    <tr>\n",
       "      <th>0</th>\n",
       "      <td>1880.000000</td>\n",
       "      <td>0.372875</td>\n",
       "      <td>1880.0</td>\n",
       "      <td>1.0</td>\n",
       "    </tr>\n",
       "    <tr>\n",
       "      <th>1</th>\n",
       "      <td>1880.083333</td>\n",
       "      <td>0.836821</td>\n",
       "      <td>1880.0</td>\n",
       "      <td>2.0</td>\n",
       "    </tr>\n",
       "    <tr>\n",
       "      <th>2</th>\n",
       "      <td>1880.166667</td>\n",
       "      <td>0.479535</td>\n",
       "      <td>1880.0</td>\n",
       "      <td>3.0</td>\n",
       "    </tr>\n",
       "    <tr>\n",
       "      <th>3</th>\n",
       "      <td>1880.250000</td>\n",
       "      <td>0.929687</td>\n",
       "      <td>1880.0</td>\n",
       "      <td>4.0</td>\n",
       "    </tr>\n",
       "    <tr>\n",
       "      <th>4</th>\n",
       "      <td>1880.333333</td>\n",
       "      <td>0.817060</td>\n",
       "      <td>1880.0</td>\n",
       "      <td>5.0</td>\n",
       "    </tr>\n",
       "    <tr>\n",
       "      <th>5</th>\n",
       "      <td>1880.416667</td>\n",
       "      <td>0.545628</td>\n",
       "      <td>1880.0</td>\n",
       "      <td>6.0</td>\n",
       "    </tr>\n",
       "    <tr>\n",
       "      <th>6</th>\n",
       "      <td>1880.500000</td>\n",
       "      <td>0.224031</td>\n",
       "      <td>1880.0</td>\n",
       "      <td>7.0</td>\n",
       "    </tr>\n",
       "    <tr>\n",
       "      <th>7</th>\n",
       "      <td>1880.583333</td>\n",
       "      <td>0.352284</td>\n",
       "      <td>1880.0</td>\n",
       "      <td>8.0</td>\n",
       "    </tr>\n",
       "    <tr>\n",
       "      <th>8</th>\n",
       "      <td>1880.666667</td>\n",
       "      <td>0.254866</td>\n",
       "      <td>1880.0</td>\n",
       "      <td>9.0</td>\n",
       "    </tr>\n",
       "    <tr>\n",
       "      <th>9</th>\n",
       "      <td>1880.750000</td>\n",
       "      <td>0.965844</td>\n",
       "      <td>1880.0</td>\n",
       "      <td>10.0</td>\n",
       "    </tr>\n",
       "    <tr>\n",
       "      <th>10</th>\n",
       "      <td>1880.833333</td>\n",
       "      <td>0.931958</td>\n",
       "      <td>1880.0</td>\n",
       "      <td>11.0</td>\n",
       "    </tr>\n",
       "    <tr>\n",
       "      <th>11</th>\n",
       "      <td>1880.916667</td>\n",
       "      <td>0.994344</td>\n",
       "      <td>1880.0</td>\n",
       "      <td>12.0</td>\n",
       "    </tr>\n",
       "    <tr>\n",
       "      <th>12</th>\n",
       "      <td>1881.000000</td>\n",
       "      <td>0.468082</td>\n",
       "      <td>1881.0</td>\n",
       "      <td>1.0</td>\n",
       "    </tr>\n",
       "    <tr>\n",
       "      <th>13</th>\n",
       "      <td>1881.083333</td>\n",
       "      <td>0.551781</td>\n",
       "      <td>1881.0</td>\n",
       "      <td>2.0</td>\n",
       "    </tr>\n",
       "    <tr>\n",
       "      <th>14</th>\n",
       "      <td>1881.166667</td>\n",
       "      <td>0.991875</td>\n",
       "      <td>1881.0</td>\n",
       "      <td>3.0</td>\n",
       "    </tr>\n",
       "    <tr>\n",
       "      <th>15</th>\n",
       "      <td>1881.250000</td>\n",
       "      <td>0.511577</td>\n",
       "      <td>1881.0</td>\n",
       "      <td>4.0</td>\n",
       "    </tr>\n",
       "    <tr>\n",
       "      <th>16</th>\n",
       "      <td>1881.333333</td>\n",
       "      <td>0.721782</td>\n",
       "      <td>1881.0</td>\n",
       "      <td>5.0</td>\n",
       "    </tr>\n",
       "    <tr>\n",
       "      <th>17</th>\n",
       "      <td>1881.416667</td>\n",
       "      <td>0.596162</td>\n",
       "      <td>1881.0</td>\n",
       "      <td>6.0</td>\n",
       "    </tr>\n",
       "    <tr>\n",
       "      <th>18</th>\n",
       "      <td>1881.500000</td>\n",
       "      <td>0.998611</td>\n",
       "      <td>1881.0</td>\n",
       "      <td>7.0</td>\n",
       "    </tr>\n",
       "    <tr>\n",
       "      <th>19</th>\n",
       "      <td>1881.583333</td>\n",
       "      <td>0.743138</td>\n",
       "      <td>1881.0</td>\n",
       "      <td>8.0</td>\n",
       "    </tr>\n",
       "    <tr>\n",
       "      <th>20</th>\n",
       "      <td>1881.666667</td>\n",
       "      <td>0.079096</td>\n",
       "      <td>1881.0</td>\n",
       "      <td>9.0</td>\n",
       "    </tr>\n",
       "    <tr>\n",
       "      <th>21</th>\n",
       "      <td>1881.750000</td>\n",
       "      <td>0.096943</td>\n",
       "      <td>1881.0</td>\n",
       "      <td>10.0</td>\n",
       "    </tr>\n",
       "    <tr>\n",
       "      <th>22</th>\n",
       "      <td>1881.833333</td>\n",
       "      <td>0.059366</td>\n",
       "      <td>1881.0</td>\n",
       "      <td>11.0</td>\n",
       "    </tr>\n",
       "    <tr>\n",
       "      <th>23</th>\n",
       "      <td>1881.916667</td>\n",
       "      <td>0.184590</td>\n",
       "      <td>1881.0</td>\n",
       "      <td>12.0</td>\n",
       "    </tr>\n",
       "    <tr>\n",
       "      <th>24</th>\n",
       "      <td>1882.000000</td>\n",
       "      <td>0.607224</td>\n",
       "      <td>1882.0</td>\n",
       "      <td>1.0</td>\n",
       "    </tr>\n",
       "  </tbody>\n",
       "</table>\n",
       "</div>"
      ],
      "text/plain": [
       "           Date      Data    Year  Month\n",
       "0   1880.000000  0.372875  1880.0    1.0\n",
       "1   1880.083333  0.836821  1880.0    2.0\n",
       "2   1880.166667  0.479535  1880.0    3.0\n",
       "3   1880.250000  0.929687  1880.0    4.0\n",
       "4   1880.333333  0.817060  1880.0    5.0\n",
       "5   1880.416667  0.545628  1880.0    6.0\n",
       "6   1880.500000  0.224031  1880.0    7.0\n",
       "7   1880.583333  0.352284  1880.0    8.0\n",
       "8   1880.666667  0.254866  1880.0    9.0\n",
       "9   1880.750000  0.965844  1880.0   10.0\n",
       "10  1880.833333  0.931958  1880.0   11.0\n",
       "11  1880.916667  0.994344  1880.0   12.0\n",
       "12  1881.000000  0.468082  1881.0    1.0\n",
       "13  1881.083333  0.551781  1881.0    2.0\n",
       "14  1881.166667  0.991875  1881.0    3.0\n",
       "15  1881.250000  0.511577  1881.0    4.0\n",
       "16  1881.333333  0.721782  1881.0    5.0\n",
       "17  1881.416667  0.596162  1881.0    6.0\n",
       "18  1881.500000  0.998611  1881.0    7.0\n",
       "19  1881.583333  0.743138  1881.0    8.0\n",
       "20  1881.666667  0.079096  1881.0    9.0\n",
       "21  1881.750000  0.096943  1881.0   10.0\n",
       "22  1881.833333  0.059366  1881.0   11.0\n",
       "23  1881.916667  0.184590  1881.0   12.0\n",
       "24  1882.000000  0.607224  1882.0    1.0"
      ]
     },
     "execution_count": 10,
     "metadata": {},
     "output_type": "execute_result"
    }
   ],
   "source": [
    "convert_date_to_year_month(date_df)"
   ]
  },
  {
   "cell_type": "code",
   "execution_count": 11,
   "metadata": {},
   "outputs": [
    {
     "data": {
      "text/plain": [
       "3.2"
      ]
     },
     "execution_count": 11,
     "metadata": {},
     "output_type": "execute_result"
    }
   ],
   "source": [
    "#Test on date_df\n",
    "def addition (a,b):\n",
    "    c= a + b\n",
    "    return c\n",
    "    \n",
    "\n",
    "addition (1.2,2)"
   ]
  },
  {
   "cell_type": "code",
   "execution_count": 12,
   "metadata": {},
   "outputs": [
    {
     "data": {
      "text/plain": [
       "(1880.0, 6.0)"
      ]
     },
     "execution_count": 12,
     "metadata": {},
     "output_type": "execute_result"
    }
   ],
   "source": [
    "date = 1880.5\n",
    "\n",
    "def conv(x):\n",
    "    \n",
    "    import numpy as np\n",
    "    year = np.floor(x)\n",
    "    \n",
    "    month = np.ceil(12*(x - year))\n",
    "    return (year, month)\n",
    "\n",
    "conv(date)"
   ]
  },
  {
   "cell_type": "code",
   "execution_count": null,
   "metadata": {},
   "outputs": [],
   "source": []
  }
 ],
 "metadata": {
  "kernelspec": {
   "display_name": "Python 3",
   "language": "python",
   "name": "python3"
  },
  "language_info": {
   "codemirror_mode": {
    "name": "ipython",
    "version": 3
   },
   "file_extension": ".py",
   "mimetype": "text/x-python",
   "name": "python",
   "nbconvert_exporter": "python",
   "pygments_lexer": "ipython3",
   "version": "3.7.3"
  }
 },
 "nbformat": 4,
 "nbformat_minor": 4
}
