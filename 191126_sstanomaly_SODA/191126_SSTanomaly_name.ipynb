{
 "cells": [
  {
   "cell_type": "markdown",
   "metadata": {},
   "source": [
    "## Sea Surface Temperature (SST) anomalies\n",
    "\n",
    "Sea surface temperature anomalies measure the difference in temperature with respect to average conditions of the ocean. So, a positive difference means the surface ocean is warmer than normal and a negative difference means it's cooler than normal.  \n",
    "\n",
    "In the graph below, redder colors indicate a positive difference and bluer colors indicate a negative difference. Does this make sense based on our discussion of how temperature is distributed around the Earth?\n",
    "\n",
    "![SST anomaly](https://www.ospo.noaa.gov/data/sst/anomaly/2019/anomnight.1.3.2019.gif)"
   ]
  },
  {
   "cell_type": "markdown",
   "metadata": {},
   "source": [
    "We are going to calculate sea surface temperature anomalies for the SODA dataset today.  SODA or Simple Ocean Data Assimilation combines experimental measurements of the ocean with modelled data to map out ocean conditions across the globe. The oceans are huge (almost 70% of the Earth's surface is covered by oceans) so it very difficult to get oceanographic measurements of every inch of it. Scientists instead use models based on their understanding of what influences the oceans to fill in the gaps in their measurements. They can also use models to go back in time to look at what oceans might have been like in the past.\n",
    "\n",
    "### Pseudocode\n",
    "Here are the steps we need to take:\n",
    "1. import file\n",
    "1. save the necessary variables\n",
    "1. find the mean temperature\n",
    "1. find SST anomaly"
   ]
  },
  {
   "cell_type": "markdown",
   "metadata": {},
   "source": [
    "#### Step 1: Import file\n",
    "\n",
    "```\n",
    "change directory\n",
    "\n",
    "import netcdf4 module\n",
    "\n",
    "read in and save dataset as a variable called 'data'\n",
    "\n",
    "look at the names of the variables\n",
    "```"
   ]
  },
  {
   "cell_type": "code",
   "execution_count": 1,
   "metadata": {},
   "outputs": [
    {
     "data": {
      "text/plain": [
       "'/Users/brownscholar/Desktop/BRIDGEUP_ClimateCoders/191126_sstanomaly_SODA'"
      ]
     },
     "execution_count": 1,
     "metadata": {},
     "output_type": "execute_result"
    }
   ],
   "source": [
    "import os \n",
    "os.getcwd()"
   ]
  },
  {
   "cell_type": "code",
   "execution_count": 2,
   "metadata": {},
   "outputs": [],
   "source": [
    "os.chdir(\"/Users/brownscholar/Dropbox/BridgeUp_ClimateCoders/Data\")"
   ]
  },
  {
   "cell_type": "code",
   "execution_count": 3,
   "metadata": {},
   "outputs": [],
   "source": [
    "from netCDF4 import Dataset\n",
    "data = Dataset('soda3.12.2_mn_ocean_reg_2017.nc')"
   ]
  },
  {
   "cell_type": "code",
   "execution_count": 4,
   "metadata": {},
   "outputs": [
    {
     "data": {
      "text/plain": [
       "<class 'netCDF4._netCDF4.Dataset'>\n",
       "root group (NETCDF3_CLASSIC data model, file format NETCDF3):\n",
       "    CDI: Climate Data Interface version 1.9.2 (http://mpimet.mpg.de/cdi)\n",
       "    Conventions: CF-1.4\n",
       "    history: Fri Jun 07 08:15:53 2019: cdo splityear temp.nc temp2\n",
       "Fri Jun 07 08:12:38 2019: cdo mergetime /aosc/greenland/soda3.12.2/REGRIDED/ocean/soda3.12.2_mn_ocean_reg_2016.nc /aosc/greenland/soda3.12.2/REGRIDED/ocean/soda3.12.2_mn_ocean_reg_2017.nc temp.nc\n",
       "Thu Nov 29 15:21:12 2018: ncrcat /aosc/greenland/soda3.12.2/REGRIDED/ocean/soda3.12.2_mn_ocean_reg_2016_01.nc /aosc/greenland/soda3.12.2/REGRIDED/ocean/soda3.12.2_mn_ocean_reg_2016_02.nc /aosc/greenland/soda3.12.2/REGRIDED/ocean/soda3.12.2_mn_ocean_reg_2016_03.nc /aosc/greenland/soda3.12.2/REGRIDED/ocean/soda3.12.2_mn_ocean_reg_2016_04.nc /aosc/greenland/soda3.12.2/REGRIDED/ocean/soda3.12.2_mn_ocean_reg_2016_05.nc /aosc/greenland/soda3.12.2/REGRIDED/ocean/soda3.12.2_mn_ocean_reg_2016_06.nc /aosc/greenland/soda3.12.2/REGRIDED/ocean/soda3.12.2_mn_ocean_reg_2016_07.nc /aosc/greenland/soda3.12.2/REGRIDED/ocean/soda3.12.2_mn_ocean_reg_2016_08.nc /aosc/greenland/soda3.12.2/REGRIDED/ocean/soda3.12.2_mn_ocean_reg_2016_09.nc /aosc/greenland/soda3.12.2/REGRIDED/ocean/soda3.12.2_mn_ocean_reg_2016_10.nc /aosc/greenland/soda3.12.2/REGRIDED/ocean/soda3.12.2_mn_ocean_reg_2016_11.nc /aosc/greenland/soda3.12.2/REGRIDED/ocean/soda3.12.2_mn_ocean_reg_2016_12.nc -o /aosc/greenland/soda3.12.2/REGRIDED/ocean/soda3.12.2_mn_ocean_reg_2016.nc\n",
       "Thu Nov 29 15:16:40 2018: ncra --rth_flt -v temp,salt,u,v,wt,prho,ssh,mlt,mlp,mls,net_heating,taux,tauy /aosc/greenland/soda3.12.2/REGRIDED/ocean/soda3.12.2_5dy_ocean_reg_2016_01_04.nc /aosc/greenland/soda3.12.2/REGRIDED/ocean/soda3.12.2_5dy_ocean_reg_2016_01_09.nc /aosc/greenland/soda3.12.2/REGRIDED/ocean/soda3.12.2_5dy_ocean_reg_2016_01_14.nc /aosc/greenland/soda3.12.2/REGRIDED/ocean/soda3.12.2_5dy_ocean_reg_2016_01_19.nc /aosc/greenland/soda3.12.2/REGRIDED/ocean/soda3.12.2_5dy_ocean_reg_2016_01_24.nc /aosc/greenland/soda3.12.2/REGRIDED/ocean/soda3.12.2_5dy_ocean_reg_2016_01_29.nc -o /aosc/greenland/soda3.12.2/REGRIDED/ocean/soda3.12.2_mn_ocean_reg_2016_01.nc\n",
       "Tue Nov 27 20:46:05 2018: cdo -f nc -b F32 copy /gpfs/fs1/work/lgchen/project/MOM_TEST_Gena_SODA3.4.2a_20170503/MOM_TEST/src/postprocessing/regrid/workdir/soda3.12.2_ocean_avg/regrid_MOM2SODA.nc /gpfs/fs1/scratch/lgchen/project/soda3.12.2/MOM_SODA/MOM2SODA_interp/ocean/soda3.12.2_5dy_ocean_reg_2016_01_04.nc\n",
       "    filename: ./regrid_MOM2SODA.nc                 \n",
       "    title: soda3.12.2\n",
       "    grid_type: mosaic\n",
       "    grid_tile: 1\n",
       "    nco_openmp_thread_number: 1\n",
       "    CDO: Climate Data Operators version 1.9.2 (http://mpimet.mpg.de/cdo)\n",
       "    dimensions(sizes): time(12), xt_ocean(720), yt_ocean(330), xu_ocean(720), yu_ocean(330), st_ocean(50), sw_ocean(50)\n",
       "    variables(dimensions): float64 \u001b[4mtime\u001b[0m(time), float64 \u001b[4mxt_ocean\u001b[0m(xt_ocean), float64 \u001b[4myt_ocean\u001b[0m(yt_ocean), float64 \u001b[4mxu_ocean\u001b[0m(xu_ocean), float64 \u001b[4myu_ocean\u001b[0m(yu_ocean), float64 \u001b[4mst_ocean\u001b[0m(st_ocean), float64 \u001b[4msw_ocean\u001b[0m(sw_ocean), float32 \u001b[4mtemp\u001b[0m(time,st_ocean,yt_ocean,xt_ocean), float32 \u001b[4msalt\u001b[0m(time,st_ocean,yt_ocean,xt_ocean), float32 \u001b[4mwt\u001b[0m(time,sw_ocean,yt_ocean,xt_ocean), float32 \u001b[4mssh\u001b[0m(time,yt_ocean,xt_ocean), float32 \u001b[4mmlt\u001b[0m(time,yt_ocean,xt_ocean), float32 \u001b[4mmlp\u001b[0m(time,yt_ocean,xt_ocean), float32 \u001b[4mmls\u001b[0m(time,yt_ocean,xt_ocean), float32 \u001b[4mnet_heating\u001b[0m(time,yt_ocean,xt_ocean), float32 \u001b[4mprho\u001b[0m(time,st_ocean,yt_ocean,xt_ocean), float32 \u001b[4mu\u001b[0m(time,st_ocean,yu_ocean,xu_ocean), float32 \u001b[4mv\u001b[0m(time,st_ocean,yu_ocean,xu_ocean), float32 \u001b[4mtaux\u001b[0m(time,yu_ocean,xu_ocean), float32 \u001b[4mtauy\u001b[0m(time,yu_ocean,xu_ocean)\n",
       "    groups: "
      ]
     },
     "execution_count": 4,
     "metadata": {},
     "output_type": "execute_result"
    }
   ],
   "source": [
    "data"
   ]
  },
  {
   "cell_type": "code",
   "execution_count": 5,
   "metadata": {},
   "outputs": [
    {
     "data": {
      "text/plain": [
       "odict_keys(['time', 'xt_ocean', 'yt_ocean', 'xu_ocean', 'yu_ocean', 'st_ocean', 'sw_ocean', 'temp', 'salt', 'wt', 'ssh', 'mlt', 'mlp', 'mls', 'net_heating', 'prho', 'u', 'v', 'taux', 'tauy'])"
      ]
     },
     "execution_count": 5,
     "metadata": {},
     "output_type": "execute_result"
    }
   ],
   "source": [
    "data.variables.keys()"
   ]
  },
  {
   "cell_type": "markdown",
   "metadata": {},
   "source": [
    "This is a description of what each of these variables are"
   ]
  },
  {
   "cell_type": "code",
   "execution_count": 6,
   "metadata": {},
   "outputs": [
    {
     "name": "stdout",
     "output_type": "stream",
     "text": [
      "time :  time\n",
      "xt_ocean :  longitude\n",
      "yt_ocean :  latitude\n",
      "xu_ocean :  longitude\n",
      "yu_ocean :  latitude\n",
      "st_ocean :  tcell zstar depth\n",
      "sw_ocean :  ucell zstar depth\n",
      "temp :  Potential temperature\n",
      "salt :  Practical Salinity\n",
      "wt :  dia-surface velocity T-points\n",
      "ssh :  effective sea level (eta_t + patm/(rho0*g)) on T cells\n",
      "mlt :  mixed layer depth determined by temperature criteria\n",
      "mlp :  Depth of potential density mixed layer\n",
      "mls :  mixed layer depth determined by salinity criteria\n",
      "net_heating :  surface ocean heat flux coming through coupler and mass transfer\n",
      "prho :  potential density referenced to 0 dbar\n",
      "u :  i-current\n",
      "v :  j-current\n",
      "taux :  i-directed wind stress forcing u-velocity\n",
      "tauy :  j-directed wind stress forcing v-velocity\n"
     ]
    }
   ],
   "source": [
    "for variable in data.variables:\n",
    "    print(variable,': ',data.variables[variable].long_name)"
   ]
  },
  {
   "cell_type": "code",
   "execution_count": 7,
   "metadata": {},
   "outputs": [
    {
     "name": "stdout",
     "output_type": "stream",
     "text": [
      "time :  (12,)\n",
      "xt_ocean :  (720,)\n",
      "yt_ocean :  (330,)\n",
      "xu_ocean :  (720,)\n",
      "yu_ocean :  (330,)\n",
      "st_ocean :  (50,)\n",
      "sw_ocean :  (50,)\n",
      "temp :  (12, 50, 330, 720)\n",
      "salt :  (12, 50, 330, 720)\n",
      "wt :  (12, 50, 330, 720)\n",
      "ssh :  (12, 330, 720)\n",
      "mlt :  (12, 330, 720)\n",
      "mlp :  (12, 330, 720)\n",
      "mls :  (12, 330, 720)\n",
      "net_heating :  (12, 330, 720)\n",
      "prho :  (12, 50, 330, 720)\n",
      "u :  (12, 50, 330, 720)\n",
      "v :  (12, 50, 330, 720)\n",
      "taux :  (12, 330, 720)\n",
      "tauy :  (12, 330, 720)\n"
     ]
    }
   ],
   "source": [
    "for variable in data.variables:\n",
    "    print(variable,': ',data.variables[variable].shape)"
   ]
  },
  {
   "cell_type": "markdown",
   "metadata": {},
   "source": [
    "Use the code above to print out the shape of the variables. What do the dimensions of temp i.e temperature correspond to?"
   ]
  },
  {
   "cell_type": "code",
   "execution_count": 8,
   "metadata": {},
   "outputs": [
    {
     "data": {
      "text/plain": [
       "(720,)"
      ]
     },
     "execution_count": 8,
     "metadata": {},
     "output_type": "execute_result"
    }
   ],
   "source": [
    "data.variables['xt_ocean'].shape"
   ]
  },
  {
   "cell_type": "code",
   "execution_count": 9,
   "metadata": {},
   "outputs": [
    {
     "name": "stdout",
     "output_type": "stream",
     "text": [
      "time :\n",
      "xt_ocean :\n",
      "yt_ocean :\n",
      "xu_ocean :\n",
      "yu_ocean :\n",
      "st_ocean :\n",
      "sw_ocean :\n",
      "temp :\n",
      "salt :\n",
      "wt :\n",
      "ssh :\n",
      "mlt :\n",
      "mlp :\n",
      "mls :\n",
      "net_heating :\n",
      "prho :\n",
      "u :\n",
      "v :\n",
      "taux :\n",
      "tauy :\n"
     ]
    }
   ],
   "source": [
    "for variables in data.variables:\n",
    "    print(variables, ':')"
   ]
  },
  {
   "cell_type": "markdown",
   "metadata": {},
   "source": [
    "#### Step 2: Save the required variables\n",
    "\n",
    "```\n",
    "save the variables temperature depends on i.e time, st_ocean, yt_ocean, xt_ocean\n",
    "\n",
    "save temperature i.e temp\n",
    "```"
   ]
  },
  {
   "cell_type": "code",
   "execution_count": 10,
   "metadata": {},
   "outputs": [],
   "source": [
    "# Save latitude as variable \n",
    "latitude = data.variables['yt_ocean'][:]\n",
    "\n",
    "# Save longitude as variable\n",
    "longitude = data.variables['xt_ocean'][:]\n",
    "\n",
    "#Save time as variable\n",
    "time = data.variables['time'][:]\n",
    "\n",
    "#Save depth as variable\n",
    "depth = data.variables['st_ocean'][:]\n",
    "\n",
    "# Save temperature as variable\n",
    "temp = data.variables['temp'][:]"
   ]
  },
  {
   "cell_type": "code",
   "execution_count": 11,
   "metadata": {},
   "outputs": [],
   "source": [
    "# Save temperature as variable"
   ]
  },
  {
   "cell_type": "markdown",
   "metadata": {},
   "source": [
    "Print out the minimum and maximum of each variable. Do these values make sense?"
   ]
  },
  {
   "cell_type": "code",
   "execution_count": 12,
   "metadata": {},
   "outputs": [
    {
     "name": "stdout",
     "output_type": "stream",
     "text": [
      "Example:  1 \n",
      "\n"
     ]
    }
   ],
   "source": [
    "import numpy as np\n",
    "\n",
    "#You can use the min() and max() *method* to do this calculation.\n",
    "A = np.array([1,2,3,4,5])\n",
    "print('Example: ',A.min(),'\\n')\n"
   ]
  },
  {
   "cell_type": "code",
   "execution_count": 13,
   "metadata": {},
   "outputs": [
    {
     "name": "stdout",
     "output_type": "stream",
     "text": [
      "5.033549785614014 \n",
      "\n",
      "5395.02294921875 \n",
      "\n"
     ]
    }
   ],
   "source": [
    "print(depth.min(),'\\n')\n",
    "print(depth.max(),'\\n')"
   ]
  },
  {
   "cell_type": "code",
   "execution_count": 14,
   "metadata": {},
   "outputs": [
    {
     "name": "stdout",
     "output_type": "stream",
     "text": [
      "-1.9938582 \n",
      "\n",
      "38.07777 \n",
      "\n"
     ]
    }
   ],
   "source": [
    "print(temp.min(),'\\n')\n",
    "print(temp.max(),'\\n')"
   ]
  },
  {
   "cell_type": "code",
   "execution_count": 15,
   "metadata": {},
   "outputs": [
    {
     "name": "stdout",
     "output_type": "stream",
     "text": [
      "13530.041666666666 \n",
      "\n",
      "13860.041666666666 \n",
      "\n"
     ]
    }
   ],
   "source": [
    "print(time.min(),'\\n')\n",
    "print(time.max(),'\\n')"
   ]
  },
  {
   "cell_type": "code",
   "execution_count": 16,
   "metadata": {},
   "outputs": [
    {
     "name": "stdout",
     "output_type": "stream",
     "text": [
      "0.25 \n",
      "\n",
      "359.75 \n",
      "\n"
     ]
    }
   ],
   "source": [
    "print(longitude.min(),'\\n')\n",
    "print(longitude.max(),'\\n')"
   ]
  },
  {
   "cell_type": "code",
   "execution_count": 17,
   "metadata": {},
   "outputs": [
    {
     "name": "stdout",
     "output_type": "stream",
     "text": [
      "-74.75 \n",
      "\n",
      "89.75 \n",
      "\n"
     ]
    }
   ],
   "source": [
    "print(latitude.min(),'\\n')\n",
    "print(latitude.max(),'\\n')"
   ]
  },
  {
   "cell_type": "markdown",
   "metadata": {},
   "source": [
    "Notice that time is measured in a different format as days from Jan 01, 1980. Sound familiar? We'll learn how to convert to a datetime format using the function in another session.\n",
    "\n",
    "Draw out what the temp variable might look like."
   ]
  },
  {
   "cell_type": "code",
   "execution_count": null,
   "metadata": {},
   "outputs": [],
   "source": []
  },
  {
   "cell_type": "markdown",
   "metadata": {},
   "source": [
    "#### Step 3: Find mean temperature \n",
    "\n",
    "*Hint*: Use https://docs.scipy.org/doc/numpy/reference/generated/numpy.ma.mean.html\n",
    "\n",
    "First, we need to decide what depth we would consider to be surface ocean? Call this variable z."
   ]
  },
  {
   "cell_type": "code",
   "execution_count": 18,
   "metadata": {},
   "outputs": [
    {
     "name": "stdout",
     "output_type": "stream",
     "text": [
      "[ 5.03354979 15.10064983]\n"
     ]
    }
   ],
   "source": [
    "z = depth[depth <= 20]\n",
    "print(z)"
   ]
  },
  {
   "cell_type": "markdown",
   "metadata": {},
   "source": [
    "Then, let's do this step by step. \n",
    "\n",
    "1. Only obtain data for the first month. You should get a grid with a shape of (50, 330, 720) "
   ]
  },
  {
   "cell_type": "code",
   "execution_count": 19,
   "metadata": {},
   "outputs": [
    {
     "data": {
      "text/plain": [
       "masked_array(\n",
       "  data=[[[--, --, --, ..., --, --, --],\n",
       "         [--, --, --, ..., --, --, --],\n",
       "         [--, --, --, ..., --, --, --],\n",
       "         ...,\n",
       "         [-1.7133582830429077, -1.7133338451385498, -1.7132887840270996,\n",
       "          ..., -1.713502049446106, -1.7134593725204468,\n",
       "          -1.7134010791778564],\n",
       "         [-1.7146706581115723, -1.7147420644760132, -1.7147945165634155,\n",
       "          ..., -1.714470624923706, -1.714550256729126,\n",
       "          -1.7146133184432983],\n",
       "         [-1.719269871711731, -1.7193185091018677, -1.7193660736083984,\n",
       "          ..., -1.7191441059112549, -1.7191851139068604,\n",
       "          -1.719224214553833]],\n",
       "\n",
       "        [[--, --, --, ..., --, --, --],\n",
       "         [--, --, --, ..., --, --, --],\n",
       "         [--, --, --, ..., --, --, --],\n",
       "         ...,\n",
       "         [-1.7133210897445679, -1.7132916450500488, -1.7133280038833618,\n",
       "          ..., -1.7135671377182007, -1.7134387493133545,\n",
       "          -1.7133781909942627],\n",
       "         [-1.7134846448898315, -1.713546872138977, -1.7135862112045288,\n",
       "          ..., -1.7136391401290894, -1.7135635614395142,\n",
       "          -1.7134833335876465],\n",
       "         [-1.7201088666915894, -1.720162034034729, -1.7202140092849731,\n",
       "          ..., -1.7199562788009644, -1.7200077772140503,\n",
       "          -1.7200566530227661]],\n",
       "\n",
       "        [[--, --, --, ..., --, --, --],\n",
       "         [--, --, --, ..., --, --, --],\n",
       "         [--, --, --, ..., --, --, --],\n",
       "         ...,\n",
       "         [-1.710474967956543, -1.710585355758667, -1.7112571001052856,\n",
       "          ..., -1.7095400094985962, -1.7103757858276367,\n",
       "          -1.7105116844177246],\n",
       "         [-1.6987340450286865, -1.6991678476333618, -1.6994853019714355,\n",
       "          ..., -1.697812557220459, -1.6980178356170654,\n",
       "          -1.6982903480529785],\n",
       "         [-1.7181209325790405, -1.7181776762008667, -1.718233585357666,\n",
       "          ..., -1.7180466651916504, -1.718062162399292,\n",
       "          -1.7180782556533813]],\n",
       "\n",
       "        ...,\n",
       "\n",
       "        [[--, --, --, ..., --, --, --],\n",
       "         [--, --, --, ..., --, --, --],\n",
       "         [--, --, --, ..., --, --, --],\n",
       "         ...,\n",
       "         [--, --, --, ..., --, --, --],\n",
       "         [--, --, --, ..., --, --, --],\n",
       "         [--, --, --, ..., --, --, --]],\n",
       "\n",
       "        [[--, --, --, ..., --, --, --],\n",
       "         [--, --, --, ..., --, --, --],\n",
       "         [--, --, --, ..., --, --, --],\n",
       "         ...,\n",
       "         [--, --, --, ..., --, --, --],\n",
       "         [--, --, --, ..., --, --, --],\n",
       "         [--, --, --, ..., --, --, --]],\n",
       "\n",
       "        [[--, --, --, ..., --, --, --],\n",
       "         [--, --, --, ..., --, --, --],\n",
       "         [--, --, --, ..., --, --, --],\n",
       "         ...,\n",
       "         [--, --, --, ..., --, --, --],\n",
       "         [--, --, --, ..., --, --, --],\n",
       "         [--, --, --, ..., --, --, --]]],\n",
       "  mask=[[[ True,  True,  True, ...,  True,  True,  True],\n",
       "         [ True,  True,  True, ...,  True,  True,  True],\n",
       "         [ True,  True,  True, ...,  True,  True,  True],\n",
       "         ...,\n",
       "         [False, False, False, ..., False, False, False],\n",
       "         [False, False, False, ..., False, False, False],\n",
       "         [False, False, False, ..., False, False, False]],\n",
       "\n",
       "        [[ True,  True,  True, ...,  True,  True,  True],\n",
       "         [ True,  True,  True, ...,  True,  True,  True],\n",
       "         [ True,  True,  True, ...,  True,  True,  True],\n",
       "         ...,\n",
       "         [False, False, False, ..., False, False, False],\n",
       "         [False, False, False, ..., False, False, False],\n",
       "         [False, False, False, ..., False, False, False]],\n",
       "\n",
       "        [[ True,  True,  True, ...,  True,  True,  True],\n",
       "         [ True,  True,  True, ...,  True,  True,  True],\n",
       "         [ True,  True,  True, ...,  True,  True,  True],\n",
       "         ...,\n",
       "         [False, False, False, ..., False, False, False],\n",
       "         [False, False, False, ..., False, False, False],\n",
       "         [False, False, False, ..., False, False, False]],\n",
       "\n",
       "        ...,\n",
       "\n",
       "        [[ True,  True,  True, ...,  True,  True,  True],\n",
       "         [ True,  True,  True, ...,  True,  True,  True],\n",
       "         [ True,  True,  True, ...,  True,  True,  True],\n",
       "         ...,\n",
       "         [ True,  True,  True, ...,  True,  True,  True],\n",
       "         [ True,  True,  True, ...,  True,  True,  True],\n",
       "         [ True,  True,  True, ...,  True,  True,  True]],\n",
       "\n",
       "        [[ True,  True,  True, ...,  True,  True,  True],\n",
       "         [ True,  True,  True, ...,  True,  True,  True],\n",
       "         [ True,  True,  True, ...,  True,  True,  True],\n",
       "         ...,\n",
       "         [ True,  True,  True, ...,  True,  True,  True],\n",
       "         [ True,  True,  True, ...,  True,  True,  True],\n",
       "         [ True,  True,  True, ...,  True,  True,  True]],\n",
       "\n",
       "        [[ True,  True,  True, ...,  True,  True,  True],\n",
       "         [ True,  True,  True, ...,  True,  True,  True],\n",
       "         [ True,  True,  True, ...,  True,  True,  True],\n",
       "         ...,\n",
       "         [ True,  True,  True, ...,  True,  True,  True],\n",
       "         [ True,  True,  True, ...,  True,  True,  True],\n",
       "         [ True,  True,  True, ...,  True,  True,  True]]],\n",
       "  fill_value=-1e+20,\n",
       "  dtype=float32)"
      ]
     },
     "execution_count": 19,
     "metadata": {},
     "output_type": "execute_result"
    }
   ],
   "source": [
    "temp[0]"
   ]
  },
  {
   "cell_type": "markdown",
   "metadata": {},
   "source": [
    "1. Identify the index for the first z m of the ocean\n",
    "1. Save temperature for the top z m"
   ]
  },
  {
   "cell_type": "code",
   "execution_count": 20,
   "metadata": {},
   "outputs": [
    {
     "data": {
      "text/plain": [
       "masked_array(data=[ True,  True, False, False, False, False, False, False,\n",
       "                   False, False, False, False, False, False, False, False,\n",
       "                   False, False, False, False, False, False, False, False,\n",
       "                   False, False, False, False, False, False, False, False,\n",
       "                   False, False, False, False, False, False, False, False,\n",
       "                   False, False, False, False, False, False, False, False,\n",
       "                   False, False],\n",
       "             mask=False,\n",
       "       fill_value=True)"
      ]
     },
     "execution_count": 20,
     "metadata": {},
     "output_type": "execute_result"
    }
   ],
   "source": [
    "depth < 20"
   ]
  },
  {
   "cell_type": "code",
   "execution_count": 21,
   "metadata": {},
   "outputs": [],
   "source": [
    "temp_jan = temp[0,depth<20,:,:]"
   ]
  },
  {
   "cell_type": "markdown",
   "metadata": {},
   "source": [
    "Average over all z m. You should get a grid that is 330 by 720."
   ]
  },
  {
   "cell_type": "code",
   "execution_count": 22,
   "metadata": {},
   "outputs": [
    {
     "data": {
      "text/plain": [
       "(330, 720)"
      ]
     },
     "execution_count": 22,
     "metadata": {},
     "output_type": "execute_result"
    }
   ],
   "source": [
    "temp_jan_mean = temp_jan.mean(axis = 0)\n",
    "temp_jan_mean.shape"
   ]
  },
  {
   "cell_type": "markdown",
   "metadata": {},
   "source": [
    "Now, find the mean for the entire grid."
   ]
  },
  {
   "cell_type": "code",
   "execution_count": 23,
   "metadata": {},
   "outputs": [
    {
     "data": {
      "text/plain": [
       "14.015762457458468"
      ]
     },
     "execution_count": 23,
     "metadata": {},
     "output_type": "execute_result"
    }
   ],
   "source": [
    "#average surface temperature for entire world\n",
    "temp_jan_mean.mean()"
   ]
  },
  {
   "cell_type": "markdown",
   "metadata": {},
   "source": [
    "#### But....\n",
    "\n",
    "You can do this step all at once by just applying the mean function to your array of the first month down to a depth of z m. I just wanted to make sure you got the steps its taking."
   ]
  },
  {
   "cell_type": "code",
   "execution_count": 24,
   "metadata": {},
   "outputs": [
    {
     "data": {
      "text/plain": [
       "14.015762457458468"
      ]
     },
     "execution_count": 24,
     "metadata": {},
     "output_type": "execute_result"
    }
   ],
   "source": [
    "temp_jan.mean(axis = 0).mean()"
   ]
  },
  {
   "cell_type": "markdown",
   "metadata": {},
   "source": [
    "Now find the mean for all 12 months to a depth of z m."
   ]
  },
  {
   "cell_type": "code",
   "execution_count": 25,
   "metadata": {},
   "outputs": [],
   "source": [
    "temperature = temp[0:,depth<20,:,:]"
   ]
  },
  {
   "cell_type": "code",
   "execution_count": 28,
   "metadata": {},
   "outputs": [
    {
     "name": "stdout",
     "output_type": "stream",
     "text": [
      "7.215776356378635\n"
     ]
    }
   ],
   "source": [
    "temp_mean = temp.mean(axis = 0).mean()\n",
    "print(temp_mean)"
   ]
  },
  {
   "cell_type": "markdown",
   "metadata": {},
   "source": [
    "#### Step 3: Find SST anomaly\n",
    "\n",
    "Remember:\n",
    "\n",
    "SST anomaly = SST - average SST"
   ]
  },
  {
   "cell_type": "code",
   "execution_count": 27,
   "metadata": {},
   "outputs": [
    {
     "data": {
      "text/plain": [
       "masked_array(\n",
       "  data=[[[[--, --, --, ..., --, --, --],\n",
       "          [--, --, --, ..., --, --, --],\n",
       "          [--, --, --, ..., --, --, --],\n",
       "          ...,\n",
       "          [-8.929134368896484, -8.929110527038574, -8.929065704345703,\n",
       "           ..., -8.929278373718262, -8.929235458374023,\n",
       "           -8.929177284240723],\n",
       "          [-8.93044662475586, -8.93051815032959, -8.930570602416992,\n",
       "           ..., -8.93024730682373, -8.930326461791992,\n",
       "           -8.930389404296875],\n",
       "          [-8.935046195983887, -8.935094833374023, -8.935142517089844,\n",
       "           ..., -8.934920310974121, -8.934961318969727,\n",
       "           -8.9350004196167]],\n",
       "\n",
       "         [[--, --, --, ..., --, --, --],\n",
       "          [--, --, --, ..., --, --, --],\n",
       "          [--, --, --, ..., --, --, --],\n",
       "          ...,\n",
       "          [-8.929097175598145, -8.929067611694336, -8.929104804992676,\n",
       "           ..., -8.929343223571777, -8.929215431213379,\n",
       "           -8.929154396057129],\n",
       "          [-8.929261207580566, -8.929323196411133, -8.929362297058105,\n",
       "           ..., -8.929415702819824, -8.929340362548828,\n",
       "           -8.92926025390625],\n",
       "          [-8.935885429382324, -8.935938835144043, -8.935990333557129,\n",
       "           ..., -8.9357328414917, -8.935784339904785,\n",
       "           -8.935832977294922]]],\n",
       "\n",
       "\n",
       "        [[[--, --, --, ..., --, --, --],\n",
       "          [--, --, --, ..., --, --, --],\n",
       "          [--, --, --, ..., --, --, --],\n",
       "          ...,\n",
       "          [-8.933540344238281, -8.933830261230469, -8.934090614318848,\n",
       "           ..., -8.932518005371094, -8.932965278625488,\n",
       "           -8.933302879333496],\n",
       "          [-8.93189811706543, -8.931962966918945, -8.932002067565918,\n",
       "           ..., -8.93156909942627, -8.931583404541016,\n",
       "           -8.931707382202148],\n",
       "          [-8.929481506347656, -8.929511070251465, -8.929539680480957,\n",
       "           ..., -8.92956829071045, -8.929521560668945,\n",
       "           -8.929478645324707]],\n",
       "\n",
       "         [[--, --, --, ..., --, --, --],\n",
       "          [--, --, --, ..., --, --, --],\n",
       "          [--, --, --, ..., --, --, --],\n",
       "          ...,\n",
       "          [-8.933286666870117, -8.933501243591309, -8.933788299560547,\n",
       "           ..., -8.932363510131836, -8.932790756225586,\n",
       "           -8.933111190795898],\n",
       "          [-8.93188190460205, -8.931958198547363, -8.932005882263184,\n",
       "           ..., -8.931540489196777, -8.931550979614258,\n",
       "           -8.93167781829834],\n",
       "          [-8.929402351379395, -8.929430961608887, -8.929458618164062,\n",
       "           ..., -8.929498672485352, -8.929448127746582,\n",
       "           -8.929401397705078]]],\n",
       "\n",
       "\n",
       "        [[[--, --, --, ..., --, --, --],\n",
       "          [--, --, --, ..., --, --, --],\n",
       "          [--, --, --, ..., --, --, --],\n",
       "          ...,\n",
       "          [-8.940210342407227, -8.940187454223633, -8.939913749694824,\n",
       "           ..., -8.940552711486816, -8.940155982971191,\n",
       "           -8.940179824829102],\n",
       "          [-8.940179824829102, -8.94042682647705, -8.940669059753418,\n",
       "           ..., -8.93929386138916, -8.939632415771484,\n",
       "           -8.939931869506836],\n",
       "          [-8.951616287231445, -8.951582908630371, -8.951549530029297,\n",
       "           ..., -8.951671600341797, -8.951656341552734,\n",
       "           -8.951642990112305]],\n",
       "\n",
       "         [[--, --, --, ..., --, --, --],\n",
       "          [--, --, --, ..., --, --, --],\n",
       "          [--, --, --, ..., --, --, --],\n",
       "          ...,\n",
       "          [-8.94019889831543, -8.940185546875, -8.939927101135254, ...,\n",
       "           -8.940559387207031, -8.940145492553711, -8.94016170501709],\n",
       "          [-8.940119743347168, -8.940359115600586, -8.940594673156738,\n",
       "           ..., -8.939230918884277, -8.939577102661133,\n",
       "           -8.939879417419434],\n",
       "          [-8.951591491699219, -8.951559066772461, -8.951528549194336,\n",
       "           ..., -8.951641082763672, -8.951627731323242,\n",
       "           -8.951616287231445]]],\n",
       "\n",
       "\n",
       "        ...,\n",
       "\n",
       "\n",
       "        [[[--, --, --, ..., --, --, --],\n",
       "          [--, --, --, ..., --, --, --],\n",
       "          [--, --, --, ..., --, --, --],\n",
       "          ...,\n",
       "          [-8.982780456542969, -8.982732772827148, -8.982857704162598,\n",
       "           ..., -8.982955932617188, -8.98293399810791,\n",
       "           -8.982871055603027],\n",
       "          [-8.980374336242676, -8.9802827835083, -8.980192184448242,\n",
       "           ..., -8.98058795928955, -8.98050594329834,\n",
       "           -8.980440139770508],\n",
       "          [-8.973199844360352, -8.973201751708984, -8.973203659057617,\n",
       "           ..., -8.973278045654297, -8.97324275970459,\n",
       "           -8.973210334777832]],\n",
       "\n",
       "         [[--, --, --, ..., --, --, --],\n",
       "          [--, --, --, ..., --, --, --],\n",
       "          [--, --, --, ..., --, --, --],\n",
       "          ...,\n",
       "          [-8.98283576965332, -8.982771873474121, -8.982892990112305,\n",
       "           ..., -8.983012199401855, -8.982995986938477,\n",
       "           -8.982935905456543],\n",
       "          [-8.980220794677734, -8.980071067810059, -8.979924201965332,\n",
       "           ..., -8.980481147766113, -8.98039436340332,\n",
       "           -8.980324745178223],\n",
       "          [-8.973127365112305, -8.973130226135254, -8.973133087158203,\n",
       "           ..., -8.97320556640625, -8.973170280456543,\n",
       "           -8.973137855529785]]],\n",
       "\n",
       "\n",
       "        [[[--, --, --, ..., --, --, --],\n",
       "          [--, --, --, ..., --, --, --],\n",
       "          [--, --, --, ..., --, --, --],\n",
       "          ...,\n",
       "          [-8.982992172241211, -8.983248710632324, -8.983843803405762,\n",
       "           ..., -8.982091903686523, -8.982433319091797,\n",
       "           -8.982756614685059],\n",
       "          [-8.986593246459961, -8.986522674560547, -8.986457824707031,\n",
       "           ..., -8.986541748046875, -8.986590385437012,\n",
       "           -8.986627578735352],\n",
       "          [-8.981928825378418, -8.981925964355469, -8.98192310333252,\n",
       "           ..., -8.98196029663086, -8.98194694519043,\n",
       "           -8.981935501098633]],\n",
       "\n",
       "         [[--, --, --, ..., --, --, --],\n",
       "          [--, --, --, ..., --, --, --],\n",
       "          [--, --, --, ..., --, --, --],\n",
       "          ...,\n",
       "          [-8.983002662658691, -8.983264923095703, -8.983893394470215,\n",
       "           ..., -8.982074737548828, -8.982425689697266,\n",
       "           -8.982760429382324],\n",
       "          [-8.986706733703613, -8.986634254455566, -8.986564636230469,\n",
       "           ..., -8.986654281616211, -8.986708641052246,\n",
       "           -8.986746788024902],\n",
       "          [-8.982070922851562, -8.982059478759766, -8.982049942016602,\n",
       "           ..., -8.982112884521484, -8.982097625732422,\n",
       "           -8.98208236694336]]],\n",
       "\n",
       "\n",
       "        [[[--, --, --, ..., --, --, --],\n",
       "          [--, --, --, ..., --, --, --],\n",
       "          [--, --, --, ..., --, --, --],\n",
       "          ...,\n",
       "          [-8.96625804901123, -8.967428207397461, -8.969094276428223,\n",
       "           ..., -8.962658882141113, -8.963884353637695,\n",
       "           -8.965179443359375],\n",
       "          [-8.986861228942871, -8.98674488067627, -8.9866304397583,\n",
       "           ..., -8.987203598022461, -8.98702621459961,\n",
       "           -8.986919403076172],\n",
       "          [-8.98948860168457, -8.989349365234375, -8.989213943481445,\n",
       "           ..., -8.989645957946777, -8.989615440368652,\n",
       "           -8.989587783813477]],\n",
       "\n",
       "         [[--, --, --, ..., --, --, --],\n",
       "          [--, --, --, ..., --, --, --],\n",
       "          [--, --, --, ..., --, --, --],\n",
       "          ...,\n",
       "          [-8.966667175292969, -8.967838287353516, -8.969515800476074,\n",
       "           ..., -8.962993621826172, -8.964263916015625,\n",
       "           -8.965579986572266],\n",
       "          [-8.986908912658691, -8.986804962158203, -8.986701011657715,\n",
       "           ..., -8.987263679504395, -8.987081527709961,\n",
       "           -8.986967086791992],\n",
       "          [-8.989704132080078, -8.9895601272583, -8.989420890808105,\n",
       "           ..., -8.989838600158691, -8.98982048034668,\n",
       "           -8.989802360534668]]]],\n",
       "  mask=[[[[ True,  True,  True, ...,  True,  True,  True],\n",
       "          [ True,  True,  True, ...,  True,  True,  True],\n",
       "          [ True,  True,  True, ...,  True,  True,  True],\n",
       "          ...,\n",
       "          [False, False, False, ..., False, False, False],\n",
       "          [False, False, False, ..., False, False, False],\n",
       "          [False, False, False, ..., False, False, False]],\n",
       "\n",
       "         [[ True,  True,  True, ...,  True,  True,  True],\n",
       "          [ True,  True,  True, ...,  True,  True,  True],\n",
       "          [ True,  True,  True, ...,  True,  True,  True],\n",
       "          ...,\n",
       "          [False, False, False, ..., False, False, False],\n",
       "          [False, False, False, ..., False, False, False],\n",
       "          [False, False, False, ..., False, False, False]]],\n",
       "\n",
       "\n",
       "        [[[ True,  True,  True, ...,  True,  True,  True],\n",
       "          [ True,  True,  True, ...,  True,  True,  True],\n",
       "          [ True,  True,  True, ...,  True,  True,  True],\n",
       "          ...,\n",
       "          [False, False, False, ..., False, False, False],\n",
       "          [False, False, False, ..., False, False, False],\n",
       "          [False, False, False, ..., False, False, False]],\n",
       "\n",
       "         [[ True,  True,  True, ...,  True,  True,  True],\n",
       "          [ True,  True,  True, ...,  True,  True,  True],\n",
       "          [ True,  True,  True, ...,  True,  True,  True],\n",
       "          ...,\n",
       "          [False, False, False, ..., False, False, False],\n",
       "          [False, False, False, ..., False, False, False],\n",
       "          [False, False, False, ..., False, False, False]]],\n",
       "\n",
       "\n",
       "        [[[ True,  True,  True, ...,  True,  True,  True],\n",
       "          [ True,  True,  True, ...,  True,  True,  True],\n",
       "          [ True,  True,  True, ...,  True,  True,  True],\n",
       "          ...,\n",
       "          [False, False, False, ..., False, False, False],\n",
       "          [False, False, False, ..., False, False, False],\n",
       "          [False, False, False, ..., False, False, False]],\n",
       "\n",
       "         [[ True,  True,  True, ...,  True,  True,  True],\n",
       "          [ True,  True,  True, ...,  True,  True,  True],\n",
       "          [ True,  True,  True, ...,  True,  True,  True],\n",
       "          ...,\n",
       "          [False, False, False, ..., False, False, False],\n",
       "          [False, False, False, ..., False, False, False],\n",
       "          [False, False, False, ..., False, False, False]]],\n",
       "\n",
       "\n",
       "        ...,\n",
       "\n",
       "\n",
       "        [[[ True,  True,  True, ...,  True,  True,  True],\n",
       "          [ True,  True,  True, ...,  True,  True,  True],\n",
       "          [ True,  True,  True, ...,  True,  True,  True],\n",
       "          ...,\n",
       "          [False, False, False, ..., False, False, False],\n",
       "          [False, False, False, ..., False, False, False],\n",
       "          [False, False, False, ..., False, False, False]],\n",
       "\n",
       "         [[ True,  True,  True, ...,  True,  True,  True],\n",
       "          [ True,  True,  True, ...,  True,  True,  True],\n",
       "          [ True,  True,  True, ...,  True,  True,  True],\n",
       "          ...,\n",
       "          [False, False, False, ..., False, False, False],\n",
       "          [False, False, False, ..., False, False, False],\n",
       "          [False, False, False, ..., False, False, False]]],\n",
       "\n",
       "\n",
       "        [[[ True,  True,  True, ...,  True,  True,  True],\n",
       "          [ True,  True,  True, ...,  True,  True,  True],\n",
       "          [ True,  True,  True, ...,  True,  True,  True],\n",
       "          ...,\n",
       "          [False, False, False, ..., False, False, False],\n",
       "          [False, False, False, ..., False, False, False],\n",
       "          [False, False, False, ..., False, False, False]],\n",
       "\n",
       "         [[ True,  True,  True, ...,  True,  True,  True],\n",
       "          [ True,  True,  True, ...,  True,  True,  True],\n",
       "          [ True,  True,  True, ...,  True,  True,  True],\n",
       "          ...,\n",
       "          [False, False, False, ..., False, False, False],\n",
       "          [False, False, False, ..., False, False, False],\n",
       "          [False, False, False, ..., False, False, False]]],\n",
       "\n",
       "\n",
       "        [[[ True,  True,  True, ...,  True,  True,  True],\n",
       "          [ True,  True,  True, ...,  True,  True,  True],\n",
       "          [ True,  True,  True, ...,  True,  True,  True],\n",
       "          ...,\n",
       "          [False, False, False, ..., False, False, False],\n",
       "          [False, False, False, ..., False, False, False],\n",
       "          [False, False, False, ..., False, False, False]],\n",
       "\n",
       "         [[ True,  True,  True, ...,  True,  True,  True],\n",
       "          [ True,  True,  True, ...,  True,  True,  True],\n",
       "          [ True,  True,  True, ...,  True,  True,  True],\n",
       "          ...,\n",
       "          [False, False, False, ..., False, False, False],\n",
       "          [False, False, False, ..., False, False, False],\n",
       "          [False, False, False, ..., False, False, False]]]],\n",
       "  fill_value=-1e+20,\n",
       "  dtype=float32)"
      ]
     },
     "execution_count": 27,
     "metadata": {},
     "output_type": "execute_result"
    }
   ],
   "source": [
    "temp[:,depth<20,:,:] - temp_mean"
   ]
  },
  {
   "cell_type": "markdown",
   "metadata": {},
   "source": [
    "## Challenge\n",
    "\n",
    "Repeat these steps for sea surface salinity data ('salt')"
   ]
  },
  {
   "cell_type": "code",
   "execution_count": null,
   "metadata": {},
   "outputs": [],
   "source": []
  }
 ],
 "metadata": {
  "kernelspec": {
   "display_name": "Python 3",
   "language": "python",
   "name": "python3"
  },
  "language_info": {
   "codemirror_mode": {
    "name": "ipython",
    "version": 3
   },
   "file_extension": ".py",
   "mimetype": "text/x-python",
   "name": "python",
   "nbconvert_exporter": "python",
   "pygments_lexer": "ipython3",
   "version": "3.7.3"
  }
 },
 "nbformat": 4,
 "nbformat_minor": 2
}
